{
 "cells": [
  {
   "cell_type": "code",
   "execution_count": 1,
   "metadata": {},
   "outputs": [
    {
     "name": "stderr",
     "output_type": "stream",
     "text": [
      "C:\\Users\\raymond.guo\\AppData\\Local\\Continuum\\anaconda3\\lib\\importlib\\_bootstrap.py:219: RuntimeWarning: numpy.ufunc size changed, may indicate binary incompatibility. Expected 192 from C header, got 216 from PyObject\n",
      "  return f(*args, **kwds)\n",
      "C:\\Users\\raymond.guo\\AppData\\Local\\Continuum\\anaconda3\\lib\\importlib\\_bootstrap.py:219: RuntimeWarning: numpy.ufunc size changed, may indicate binary incompatibility. Expected 192 from C header, got 216 from PyObject\n",
      "  return f(*args, **kwds)\n",
      "C:\\Users\\raymond.guo\\AppData\\Local\\Continuum\\anaconda3\\lib\\importlib\\_bootstrap.py:219: RuntimeWarning: numpy.ufunc size changed, may indicate binary incompatibility. Expected 192 from C header, got 216 from PyObject\n",
      "  return f(*args, **kwds)\n",
      "C:\\Users\\raymond.guo\\AppData\\Local\\Continuum\\anaconda3\\lib\\importlib\\_bootstrap.py:219: RuntimeWarning: numpy.ufunc size changed, may indicate binary incompatibility. Expected 192 from C header, got 216 from PyObject\n",
      "  return f(*args, **kwds)\n"
     ]
    }
   ],
   "source": [
    "import pandas as pd\n",
    "import os\n",
    "import numpy as np\n",
    "import matplotlib.pyplot as plt\n",
    "import tensorflow as tf"
   ]
  },
  {
   "cell_type": "code",
   "execution_count": null,
   "metadata": {},
   "outputs": [],
   "source": [
    "# read data from file:\n",
    "building_prepared_df = pd.read_csv('C:/data/Kaggle_ASHRAE_energy/building_prepared_df.csv')\n",
    "weather_train_prepared_df = pd.read_csv('C:/data/Kaggle_ASHRAE_energy/weather_train_prepared_df.csv')\n",
    "train_set0_no0 = pd.read_csv('C:/data/Kaggle_ASHRAE_energy/train_set0_no0.csv')"
   ]
  },
  {
   "cell_type": "code",
   "execution_count": null,
   "metadata": {},
   "outputs": [],
   "source": [
    "merge_df = pd.merge(left = building_prepared_df[building_prepared_df.site_id == 0], \n",
    "                    right = weather_train_prepared_df[weather_train_prepared_df.site_id == 0],\n",
    "                   left_on='site_id', right_on='site_id')\n",
    "merge_df"
   ]
  },
  {
   "cell_type": "code",
   "execution_count": 36,
   "metadata": {},
   "outputs": [],
   "source": [
    "model = tf.keras.models.Sequential()\n",
    "model.add(tf.keras.layers.Dense(10, input_shape = (2,), activation = 'relu'))\n",
    "model.add(tf.keras.layers.Dense(15, activation = 'relu'))\n",
    "model.add(tf.keras.layers.Dense(10, activation = 'relu'))\n",
    "model.add(tf.keras.layers.Dense(1, activation='softmax'))\n",
    "model.compile(optimizer = 'adam', loss = 'mse', metrics = ['acc'])"
   ]
  },
  {
   "cell_type": "code",
   "execution_count": 43,
   "metadata": {},
   "outputs": [
    {
     "name": "stdout",
     "output_type": "stream",
     "text": [
      "Train on 10 samples\n",
      "Epoch 1/10\n",
      "10/10 [==============================] - 0s 795us/sample - loss: 114.0000 - acc: 0.1000\n",
      "Epoch 2/10\n",
      "10/10 [==============================] - 0s 299us/sample - loss: 114.0000 - acc: 0.1000\n",
      "Epoch 3/10\n",
      "10/10 [==============================] - 0s 196us/sample - loss: 114.0000 - acc: 0.1000\n",
      "Epoch 4/10\n",
      "10/10 [==============================] - 0s 199us/sample - loss: 114.0000 - acc: 0.1000\n",
      "Epoch 5/10\n",
      "10/10 [==============================] - 0s 299us/sample - loss: 114.0000 - acc: 0.1000\n",
      "Epoch 6/10\n",
      "10/10 [==============================] - 0s 199us/sample - loss: 114.0000 - acc: 0.1000\n",
      "Epoch 7/10\n",
      "10/10 [==============================] - 0s 196us/sample - loss: 114.0000 - acc: 0.1000\n",
      "Epoch 8/10\n",
      "10/10 [==============================] - 0s 299us/sample - loss: 114.0000 - acc: 0.1000\n",
      "Epoch 9/10\n",
      "10/10 [==============================] - 0s 300us/sample - loss: 114.0000 - acc: 0.1000\n",
      "Epoch 10/10\n",
      "10/10 [==============================] - 0s 298us/sample - loss: 114.0000 - acc: 0.1000\n"
     ]
    }
   ],
   "source": [
    "history = model.fit(x1.values,y1.values,epochs=10)"
   ]
  },
  {
   "cell_type": "code",
   "execution_count": 42,
   "metadata": {},
   "outputs": [
    {
     "name": "stdout",
     "output_type": "stream",
     "text": [
      "Train on 10 samples\n",
      "Epoch 1/10\n",
      "10/10 [==============================] - 0s 800us/sample - loss: 394.0000 - acc: 0.0000e+00\n",
      "Epoch 2/10\n",
      "10/10 [==============================] - 0s 195us/sample - loss: 394.0000 - acc: 0.0000e+00\n",
      "Epoch 3/10\n",
      "10/10 [==============================] - 0s 196us/sample - loss: 394.0000 - acc: 0.0000e+00\n",
      "Epoch 4/10\n",
      "10/10 [==============================] - 0s 199us/sample - loss: 394.0000 - acc: 0.0000e+00\n",
      "Epoch 5/10\n",
      "10/10 [==============================] - 0s 300us/sample - loss: 394.0000 - acc: 0.0000e+00\n",
      "Epoch 6/10\n",
      "10/10 [==============================] - 0s 197us/sample - loss: 394.0000 - acc: 0.0000e+00\n",
      "Epoch 7/10\n",
      "10/10 [==============================] - 0s 199us/sample - loss: 394.0000 - acc: 0.0000e+00\n",
      "Epoch 8/10\n",
      "10/10 [==============================] - 0s 299us/sample - loss: 394.0000 - acc: 0.0000e+00\n",
      "Epoch 9/10\n",
      "10/10 [==============================] - 0s 299us/sample - loss: 394.0000 - acc: 0.0000e+00\n",
      "Epoch 10/10\n",
      "10/10 [==============================] - 0s 299us/sample - loss: 394.0000 - acc: 0.0000e+00\n"
     ]
    }
   ],
   "source": [
    "history = model.fit(x2.values,y2.values,epochs=10)"
   ]
  },
  {
   "cell_type": "code",
   "execution_count": null,
   "metadata": {},
   "outputs": [],
   "source": []
  },
  {
   "cell_type": "code",
   "execution_count": null,
   "metadata": {},
   "outputs": [],
   "source": []
  }
 ],
 "metadata": {
  "kernelspec": {
   "display_name": "Python 3",
   "language": "python",
   "name": "python3"
  },
  "language_info": {
   "codemirror_mode": {
    "name": "ipython",
    "version": 3
   },
   "file_extension": ".py",
   "mimetype": "text/x-python",
   "name": "python",
   "nbconvert_exporter": "python",
   "pygments_lexer": "ipython3",
   "version": "3.7.3"
  }
 },
 "nbformat": 4,
 "nbformat_minor": 2
}
