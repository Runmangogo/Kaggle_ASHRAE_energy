{
 "cells": [
  {
   "cell_type": "code",
   "execution_count": 1,
   "metadata": {},
   "outputs": [],
   "source": [
    "import pandas as pd\n",
    "import os\n",
    "import numpy as np\n",
    "import matplotlib.pyplot as plt\n",
    "import seaborn as sns\n",
    "import tensorflow as tf\n",
    "import gc\n",
    "import pickle\n",
    "from sklearn.preprocessing import RobustScaler, MinMaxScaler\n",
    "from sklearn.preprocessing import LabelEncoder\n",
    "from sklearn.metrics import mean_squared_error"
   ]
  },
  {
   "cell_type": "code",
   "execution_count": 2,
   "metadata": {},
   "outputs": [],
   "source": [
    "## Function to reduce the memory usage\n",
    "def reduce_mem_usage(df, verbose=True):\n",
    "    numerics = ['int16', 'int32', 'int64', 'float16', 'float32', 'float64']\n",
    "    start_mem = df.memory_usage().sum() / 1024**2    \n",
    "    for col in df.columns:\n",
    "        col_type = df[col].dtypes\n",
    "        if col_type in numerics: \n",
    "            c_min = df[col].min()\n",
    "            c_max = df[col].max()\n",
    "            if str(col_type)[:3] == 'int':\n",
    "                if c_min > np.iinfo(np.int8).min and c_max < np.iinfo(np.int8).max:\n",
    "                    df[col] = df[col].astype(np.int8)\n",
    "                elif c_min > np.iinfo(np.int16).min and c_max < np.iinfo(np.int16).max:\n",
    "                    df[col] = df[col].astype(np.int16)\n",
    "                elif c_min > np.iinfo(np.int32).min and c_max < np.iinfo(np.int32).max:\n",
    "                    df[col] = df[col].astype(np.int32)\n",
    "                elif c_min > np.iinfo(np.int64).min and c_max < np.iinfo(np.int64).max:\n",
    "                    df[col] = df[col].astype(np.int64)  \n",
    "            else:\n",
    "                if c_min > np.finfo(np.float16).min and c_max < np.finfo(np.float16).max:\n",
    "                    df[col] = df[col].astype(np.float16)\n",
    "                elif c_min > np.finfo(np.float32).min and c_max < np.finfo(np.float32).max:\n",
    "                    df[col] = df[col].astype(np.float32)\n",
    "                else:\n",
    "                    df[col] = df[col].astype(np.float64)    \n",
    "    end_mem = df.memory_usage().sum() / 1024**2\n",
    "    if verbose: print('Mem. usage decreased from {:5.2f} Mb to {:5.2f} Mb ({:.1f}% reduction)'.format(start_mem, end_mem, 100 * (start_mem - end_mem) / start_mem))\n",
    "    return df"
   ]
  },
  {
   "cell_type": "code",
   "execution_count": 3,
   "metadata": {},
   "outputs": [
    {
     "name": "stdout",
     "output_type": "stream",
     "text": [
      "Mem. usage decreased from 1603.49 Mb to 523.36 Mb (67.4% reduction)\n",
      "Mem. usage decreased from 571.30 Mb to 194.40 Mb (66.0% reduction)\n",
      "Mem. usage decreased from 368.96 Mb to 125.55 Mb (66.0% reduction)\n",
      "Mem. usage decreased from 173.23 Mb to 58.95 Mb (66.0% reduction)\n"
     ]
    }
   ],
   "source": [
    "# read data from file:\n",
    "train_set0 = pd.read_csv('C:/data/Kaggle_ASHRAE_energy/train_set0.csv')\n",
    "train_set0 = reduce_mem_usage(train_set0)\n",
    "train_set1 = pd.read_csv('C:/data/Kaggle_ASHRAE_energy/train_set1.csv')\n",
    "train_set1 = reduce_mem_usage(train_set1)\n",
    "train_set2 = pd.read_csv('C:/data/Kaggle_ASHRAE_energy/train_set2.csv')\n",
    "train_set2 = reduce_mem_usage(train_set2)\n",
    "train_set3 = pd.read_csv('C:/data/Kaggle_ASHRAE_energy/train_set3.csv')\n",
    "train_set3 = reduce_mem_usage(train_set3)"
   ]
  },
  {
   "cell_type": "code",
   "execution_count": 4,
   "metadata": {},
   "outputs": [
    {
     "data": {
      "text/plain": [
       "'train_set0.timestamp = pd.to_datetime(train_set0.timestamp)\\ntrain_set1.timestamp = pd.to_datetime(train_set1.timestamp)\\ntrain_set2.timestamp = pd.to_datetime(train_set2.timestamp)\\ntrain_set3.timestamp = pd.to_datetime(train_set3.timestamp)'"
      ]
     },
     "execution_count": 4,
     "metadata": {},
     "output_type": "execute_result"
    }
   ],
   "source": [
    "'''train_set0.timestamp = pd.to_datetime(train_set0.timestamp)\n",
    "train_set1.timestamp = pd.to_datetime(train_set1.timestamp)\n",
    "train_set2.timestamp = pd.to_datetime(train_set2.timestamp)\n",
    "train_set3.timestamp = pd.to_datetime(train_set3.timestamp)'''"
   ]
  },
  {
   "cell_type": "code",
   "execution_count": 4,
   "metadata": {},
   "outputs": [
    {
     "data": {
      "text/plain": [
       "((11676263, 18), (4160090, 18), (2686678, 18), (1261421, 18))"
      ]
     },
     "execution_count": 4,
     "metadata": {},
     "output_type": "execute_result"
    }
   ],
   "source": [
    "train_set0.shape, train_set1.shape, train_set2.shape, train_set3.shape"
   ]
  },
  {
   "cell_type": "code",
   "execution_count": 5,
   "metadata": {},
   "outputs": [
    {
     "data": {
      "text/html": [
       "<div>\n",
       "<style scoped>\n",
       "    .dataframe tbody tr th:only-of-type {\n",
       "        vertical-align: middle;\n",
       "    }\n",
       "\n",
       "    .dataframe tbody tr th {\n",
       "        vertical-align: top;\n",
       "    }\n",
       "\n",
       "    .dataframe thead th {\n",
       "        text-align: right;\n",
       "    }\n",
       "</style>\n",
       "<table border=\"1\" class=\"dataframe\">\n",
       "  <thead>\n",
       "    <tr style=\"text-align: right;\">\n",
       "      <th></th>\n",
       "      <th>site_id</th>\n",
       "      <th>building_id</th>\n",
       "      <th>primary_use</th>\n",
       "      <th>square_feet</th>\n",
       "      <th>timestamp</th>\n",
       "      <th>airtemp</th>\n",
       "      <th>sealev</th>\n",
       "      <th>dewtemp</th>\n",
       "      <th>windsp</th>\n",
       "      <th>North</th>\n",
       "      <th>West</th>\n",
       "      <th>South</th>\n",
       "      <th>nowind</th>\n",
       "      <th>dewair</th>\n",
       "      <th>month</th>\n",
       "      <th>weekday</th>\n",
       "      <th>hour</th>\n",
       "      <th>meter_reading</th>\n",
       "    </tr>\n",
       "  </thead>\n",
       "  <tbody>\n",
       "    <tr>\n",
       "      <td>0</td>\n",
       "      <td>0</td>\n",
       "      <td>0</td>\n",
       "      <td>Education</td>\n",
       "      <td>0.008171</td>\n",
       "      <td>2016-05-20 18:00:00</td>\n",
       "      <td>0.698242</td>\n",
       "      <td>0.606934</td>\n",
       "      <td>0.863770</td>\n",
       "      <td>0.425537</td>\n",
       "      <td>0.0</td>\n",
       "      <td>0.0</td>\n",
       "      <td>0.0</td>\n",
       "      <td>0.0</td>\n",
       "      <td>0.120483</td>\n",
       "      <td>5.0</td>\n",
       "      <td>4.0</td>\n",
       "      <td>18.0</td>\n",
       "      <td>68.2500</td>\n",
       "    </tr>\n",
       "    <tr>\n",
       "      <td>1</td>\n",
       "      <td>0</td>\n",
       "      <td>0</td>\n",
       "      <td>Education</td>\n",
       "      <td>0.008171</td>\n",
       "      <td>2016-05-20 19:00:00</td>\n",
       "      <td>0.706055</td>\n",
       "      <td>0.597168</td>\n",
       "      <td>0.873535</td>\n",
       "      <td>0.235596</td>\n",
       "      <td>0.0</td>\n",
       "      <td>0.0</td>\n",
       "      <td>0.0</td>\n",
       "      <td>0.0</td>\n",
       "      <td>0.120483</td>\n",
       "      <td>5.0</td>\n",
       "      <td>4.0</td>\n",
       "      <td>19.0</td>\n",
       "      <td>81.4375</td>\n",
       "    </tr>\n",
       "    <tr>\n",
       "      <td>2</td>\n",
       "      <td>0</td>\n",
       "      <td>0</td>\n",
       "      <td>Education</td>\n",
       "      <td>0.008171</td>\n",
       "      <td>2016-05-20 20:00:00</td>\n",
       "      <td>0.740723</td>\n",
       "      <td>0.595703</td>\n",
       "      <td>0.881836</td>\n",
       "      <td>0.148804</td>\n",
       "      <td>0.0</td>\n",
       "      <td>0.0</td>\n",
       "      <td>0.0</td>\n",
       "      <td>0.0</td>\n",
       "      <td>0.158325</td>\n",
       "      <td>5.0</td>\n",
       "      <td>4.0</td>\n",
       "      <td>20.0</td>\n",
       "      <td>70.0000</td>\n",
       "    </tr>\n",
       "    <tr>\n",
       "      <td>3</td>\n",
       "      <td>0</td>\n",
       "      <td>0</td>\n",
       "      <td>Education</td>\n",
       "      <td>0.008171</td>\n",
       "      <td>2016-05-20 21:00:00</td>\n",
       "      <td>0.763184</td>\n",
       "      <td>0.589844</td>\n",
       "      <td>0.873535</td>\n",
       "      <td>0.210693</td>\n",
       "      <td>1.0</td>\n",
       "      <td>0.0</td>\n",
       "      <td>0.0</td>\n",
       "      <td>0.0</td>\n",
       "      <td>0.196167</td>\n",
       "      <td>5.0</td>\n",
       "      <td>4.0</td>\n",
       "      <td>21.0</td>\n",
       "      <td>70.6250</td>\n",
       "    </tr>\n",
       "    <tr>\n",
       "      <td>4</td>\n",
       "      <td>0</td>\n",
       "      <td>0</td>\n",
       "      <td>Education</td>\n",
       "      <td>0.008171</td>\n",
       "      <td>2016-05-20 22:00:00</td>\n",
       "      <td>0.734375</td>\n",
       "      <td>0.584961</td>\n",
       "      <td>0.891602</td>\n",
       "      <td>0.235596</td>\n",
       "      <td>1.0</td>\n",
       "      <td>0.0</td>\n",
       "      <td>0.0</td>\n",
       "      <td>0.0</td>\n",
       "      <td>0.139404</td>\n",
       "      <td>5.0</td>\n",
       "      <td>4.0</td>\n",
       "      <td>22.0</td>\n",
       "      <td>74.0000</td>\n",
       "    </tr>\n",
       "  </tbody>\n",
       "</table>\n",
       "</div>"
      ],
      "text/plain": [
       "   site_id  building_id primary_use  square_feet            timestamp  \\\n",
       "0        0            0   Education     0.008171  2016-05-20 18:00:00   \n",
       "1        0            0   Education     0.008171  2016-05-20 19:00:00   \n",
       "2        0            0   Education     0.008171  2016-05-20 20:00:00   \n",
       "3        0            0   Education     0.008171  2016-05-20 21:00:00   \n",
       "4        0            0   Education     0.008171  2016-05-20 22:00:00   \n",
       "\n",
       "    airtemp    sealev   dewtemp    windsp  North  West  South  nowind  \\\n",
       "0  0.698242  0.606934  0.863770  0.425537    0.0   0.0    0.0     0.0   \n",
       "1  0.706055  0.597168  0.873535  0.235596    0.0   0.0    0.0     0.0   \n",
       "2  0.740723  0.595703  0.881836  0.148804    0.0   0.0    0.0     0.0   \n",
       "3  0.763184  0.589844  0.873535  0.210693    1.0   0.0    0.0     0.0   \n",
       "4  0.734375  0.584961  0.891602  0.235596    1.0   0.0    0.0     0.0   \n",
       "\n",
       "     dewair  month  weekday  hour  meter_reading  \n",
       "0  0.120483    5.0      4.0  18.0        68.2500  \n",
       "1  0.120483    5.0      4.0  19.0        81.4375  \n",
       "2  0.158325    5.0      4.0  20.0        70.0000  \n",
       "3  0.196167    5.0      4.0  21.0        70.6250  \n",
       "4  0.139404    5.0      4.0  22.0        74.0000  "
      ]
     },
     "execution_count": 5,
     "metadata": {},
     "output_type": "execute_result"
    }
   ],
   "source": [
    "train_set0.head()"
   ]
  },
  {
   "cell_type": "code",
   "execution_count": 6,
   "metadata": {},
   "outputs": [],
   "source": [
    "# labelEncode primary_use\n",
    "le = LabelEncoder()\n",
    "train_set0[\"primary_use\"] = le.fit_transform(train_set0[\"primary_use\"])\n",
    "train_set1[\"primary_use\"] = le.transform(train_set1[\"primary_use\"])\n",
    "train_set2[\"primary_use\"] = le.transform(train_set2[\"primary_use\"])\n",
    "train_set3[\"primary_use\"] = le.transform(train_set3[\"primary_use\"])"
   ]
  },
  {
   "cell_type": "code",
   "execution_count": 14,
   "metadata": {},
   "outputs": [],
   "source": [
    "pickle.dump(le, open('LabelEncoder_primary_use.pkl', 'wb'))"
   ]
  },
  {
   "cell_type": "code",
   "execution_count": 7,
   "metadata": {},
   "outputs": [
    {
     "name": "stderr",
     "output_type": "stream",
     "text": [
      "C:\\Users\\raymond.guo\\AppData\\Local\\Continuum\\anaconda3\\lib\\site-packages\\ipykernel_launcher.py:2: SettingWithCopyWarning: \n",
      "A value is trying to be set on a copy of a slice from a DataFrame\n",
      "\n",
      "See the caveats in the documentation: http://pandas.pydata.org/pandas-docs/stable/user_guide/indexing.html#returning-a-view-versus-a-copy\n",
      "  \n",
      "C:\\Users\\raymond.guo\\AppData\\Local\\Continuum\\anaconda3\\lib\\site-packages\\ipykernel_launcher.py:3: SettingWithCopyWarning: \n",
      "A value is trying to be set on a copy of a slice from a DataFrame\n",
      "\n",
      "See the caveats in the documentation: http://pandas.pydata.org/pandas-docs/stable/user_guide/indexing.html#returning-a-view-versus-a-copy\n",
      "  This is separate from the ipykernel package so we can avoid doing imports until\n",
      "C:\\Users\\raymond.guo\\AppData\\Local\\Continuum\\anaconda3\\lib\\site-packages\\ipykernel_launcher.py:4: SettingWithCopyWarning: \n",
      "A value is trying to be set on a copy of a slice from a DataFrame\n",
      "\n",
      "See the caveats in the documentation: http://pandas.pydata.org/pandas-docs/stable/user_guide/indexing.html#returning-a-view-versus-a-copy\n",
      "  after removing the cwd from sys.path.\n",
      "C:\\Users\\raymond.guo\\AppData\\Local\\Continuum\\anaconda3\\lib\\site-packages\\ipykernel_launcher.py:5: SettingWithCopyWarning: \n",
      "A value is trying to be set on a copy of a slice from a DataFrame\n",
      "\n",
      "See the caveats in the documentation: http://pandas.pydata.org/pandas-docs/stable/user_guide/indexing.html#returning-a-view-versus-a-copy\n",
      "  \"\"\"\n"
     ]
    }
   ],
   "source": [
    "# replace month = 12 with 0\n",
    "train_set0.month[train_set0.month==12] = 0\n",
    "train_set1.month[train_set1.month==12] = 0\n",
    "train_set2.month[train_set2.month==12] = 0\n",
    "train_set3.month[train_set3.month==12] = 0"
   ]
  },
  {
   "cell_type": "code",
   "execution_count": 8,
   "metadata": {},
   "outputs": [],
   "source": [
    "# need to rescale the meter_reading:\n",
    "rob_0 = RobustScaler()\n",
    "mm_0 = MinMaxScaler()\n",
    "rob_1 = RobustScaler()\n",
    "mm_1 = MinMaxScaler()\n",
    "rob_2 = RobustScaler()\n",
    "mm_2 = MinMaxScaler()\n",
    "rob_3 = RobustScaler()\n",
    "mm_3 = MinMaxScaler()"
   ]
  },
  {
   "cell_type": "code",
   "execution_count": 9,
   "metadata": {},
   "outputs": [],
   "source": [
    "train_set0.meter_reading = mm_0.fit_transform(rob_0.fit_transform(np.log1p(train_set0.meter_reading).values.reshape(-1,1)))\n",
    "train_set1.meter_reading = mm_1.fit_transform(rob_1.fit_transform(np.log1p(train_set1.meter_reading).values.reshape(-1,1)))\n",
    "train_set2.meter_reading = mm_2.fit_transform(rob_2.fit_transform(np.log1p(train_set2.meter_reading).values.reshape(-1,1)))\n",
    "train_set3.meter_reading = mm_3.fit_transform(rob_3.fit_transform(np.log1p(train_set3.meter_reading).values.reshape(-1,1)))"
   ]
  },
  {
   "cell_type": "code",
   "execution_count": 16,
   "metadata": {},
   "outputs": [],
   "source": [
    "pickle.dump(mm_0, open('mm_0.pkl', 'wb'))\n",
    "pickle.dump(rob_0, open('rob_0.pkl', 'wb'))\n",
    "pickle.dump(mm_1, open('mm_1.pkl', 'wb'))\n",
    "pickle.dump(rob_1, open('rob_1.pkl', 'wb'))\n",
    "pickle.dump(mm_2, open('mm_2.pkl', 'wb'))\n",
    "pickle.dump(rob_2, open('rob_2.pkl', 'wb'))\n",
    "pickle.dump(mm_3, open('mm_3.pkl', 'wb'))\n",
    "pickle.dump(rob_3, open('rob_3.pkl', 'wb'))"
   ]
  },
  {
   "cell_type": "code",
   "execution_count": 12,
   "metadata": {},
   "outputs": [
    {
     "data": {
      "text/plain": [
       "<matplotlib.axes._subplots.AxesSubplot at 0x26a9b673ac8>"
      ]
     },
     "execution_count": 12,
     "metadata": {},
     "output_type": "execute_result"
    },
    {
     "data": {
      "image/png": "[encoded data removed]",
      "text/plain": [
       "<Figure size 432x288 with 1 Axes>"
      ]
     },
     "metadata": {
      "needs_background": "light"
     },
     "output_type": "display_data"
    }
   ],
   "source": [
    "train_set0.meter_reading.plot.hist(bins=50)"
   ]
  },
  {
   "cell_type": "code",
   "execution_count": 12,
   "metadata": {},
   "outputs": [
    {
     "data": {
      "text/html": [
       "<div>\n",
       "<style scoped>\n",
       "    .dataframe tbody tr th:only-of-type {\n",
       "        vertical-align: middle;\n",
       "    }\n",
       "\n",
       "    .dataframe tbody tr th {\n",
       "        vertical-align: top;\n",
       "    }\n",
       "\n",
       "    .dataframe thead th {\n",
       "        text-align: right;\n",
       "    }\n",
       "</style>\n",
       "<table border=\"1\" class=\"dataframe\">\n",
       "  <thead>\n",
       "    <tr style=\"text-align: right;\">\n",
       "      <th></th>\n",
       "      <th>site_id</th>\n",
       "      <th>building_id</th>\n",
       "      <th>primary_use</th>\n",
       "      <th>square_feet</th>\n",
       "      <th>timestamp</th>\n",
       "      <th>airtemp</th>\n",
       "      <th>sealev</th>\n",
       "      <th>dewtemp</th>\n",
       "      <th>windsp</th>\n",
       "      <th>North</th>\n",
       "      <th>West</th>\n",
       "      <th>South</th>\n",
       "      <th>nowind</th>\n",
       "      <th>dewair</th>\n",
       "      <th>month</th>\n",
       "      <th>weekday</th>\n",
       "      <th>hour</th>\n",
       "      <th>meter_reading</th>\n",
       "    </tr>\n",
       "  </thead>\n",
       "  <tbody>\n",
       "    <tr>\n",
       "      <td>0</td>\n",
       "      <td>0</td>\n",
       "      <td>0</td>\n",
       "      <td>0</td>\n",
       "      <td>0.008171</td>\n",
       "      <td>2016-05-20 18:00:00</td>\n",
       "      <td>0.698242</td>\n",
       "      <td>0.606934</td>\n",
       "      <td>0.863770</td>\n",
       "      <td>0.425537</td>\n",
       "      <td>0.0</td>\n",
       "      <td>0.0</td>\n",
       "      <td>0.0</td>\n",
       "      <td>0.0</td>\n",
       "      <td>0.120483</td>\n",
       "      <td>5.0</td>\n",
       "      <td>4.0</td>\n",
       "      <td>18.0</td>\n",
       "      <td>0.408936</td>\n",
       "    </tr>\n",
       "    <tr>\n",
       "      <td>1</td>\n",
       "      <td>0</td>\n",
       "      <td>0</td>\n",
       "      <td>0</td>\n",
       "      <td>0.008171</td>\n",
       "      <td>2016-05-20 19:00:00</td>\n",
       "      <td>0.706055</td>\n",
       "      <td>0.597168</td>\n",
       "      <td>0.873535</td>\n",
       "      <td>0.235596</td>\n",
       "      <td>0.0</td>\n",
       "      <td>0.0</td>\n",
       "      <td>0.0</td>\n",
       "      <td>0.0</td>\n",
       "      <td>0.120483</td>\n",
       "      <td>5.0</td>\n",
       "      <td>4.0</td>\n",
       "      <td>19.0</td>\n",
       "      <td>0.425537</td>\n",
       "    </tr>\n",
       "    <tr>\n",
       "      <td>2</td>\n",
       "      <td>0</td>\n",
       "      <td>0</td>\n",
       "      <td>0</td>\n",
       "      <td>0.008171</td>\n",
       "      <td>2016-05-20 20:00:00</td>\n",
       "      <td>0.740723</td>\n",
       "      <td>0.595703</td>\n",
       "      <td>0.881836</td>\n",
       "      <td>0.148804</td>\n",
       "      <td>0.0</td>\n",
       "      <td>0.0</td>\n",
       "      <td>0.0</td>\n",
       "      <td>0.0</td>\n",
       "      <td>0.158325</td>\n",
       "      <td>5.0</td>\n",
       "      <td>4.0</td>\n",
       "      <td>20.0</td>\n",
       "      <td>0.411133</td>\n",
       "    </tr>\n",
       "    <tr>\n",
       "      <td>3</td>\n",
       "      <td>0</td>\n",
       "      <td>0</td>\n",
       "      <td>0</td>\n",
       "      <td>0.008171</td>\n",
       "      <td>2016-05-20 21:00:00</td>\n",
       "      <td>0.763184</td>\n",
       "      <td>0.589844</td>\n",
       "      <td>0.873535</td>\n",
       "      <td>0.210693</td>\n",
       "      <td>1.0</td>\n",
       "      <td>0.0</td>\n",
       "      <td>0.0</td>\n",
       "      <td>0.0</td>\n",
       "      <td>0.196167</td>\n",
       "      <td>5.0</td>\n",
       "      <td>4.0</td>\n",
       "      <td>21.0</td>\n",
       "      <td>0.411865</td>\n",
       "    </tr>\n",
       "    <tr>\n",
       "      <td>4</td>\n",
       "      <td>0</td>\n",
       "      <td>0</td>\n",
       "      <td>0</td>\n",
       "      <td>0.008171</td>\n",
       "      <td>2016-05-20 22:00:00</td>\n",
       "      <td>0.734375</td>\n",
       "      <td>0.584961</td>\n",
       "      <td>0.891602</td>\n",
       "      <td>0.235596</td>\n",
       "      <td>1.0</td>\n",
       "      <td>0.0</td>\n",
       "      <td>0.0</td>\n",
       "      <td>0.0</td>\n",
       "      <td>0.139404</td>\n",
       "      <td>5.0</td>\n",
       "      <td>4.0</td>\n",
       "      <td>22.0</td>\n",
       "      <td>0.416504</td>\n",
       "    </tr>\n",
       "  </tbody>\n",
       "</table>\n",
       "</div>"
      ],
      "text/plain": [
       "   site_id  building_id  primary_use  square_feet            timestamp  \\\n",
       "0        0            0            0     0.008171  2016-05-20 18:00:00   \n",
       "1        0            0            0     0.008171  2016-05-20 19:00:00   \n",
       "2        0            0            0     0.008171  2016-05-20 20:00:00   \n",
       "3        0            0            0     0.008171  2016-05-20 21:00:00   \n",
       "4        0            0            0     0.008171  2016-05-20 22:00:00   \n",
       "\n",
       "    airtemp    sealev   dewtemp    windsp  North  West  South  nowind  \\\n",
       "0  0.698242  0.606934  0.863770  0.425537    0.0   0.0    0.0     0.0   \n",
       "1  0.706055  0.597168  0.873535  0.235596    0.0   0.0    0.0     0.0   \n",
       "2  0.740723  0.595703  0.881836  0.148804    0.0   0.0    0.0     0.0   \n",
       "3  0.763184  0.589844  0.873535  0.210693    1.0   0.0    0.0     0.0   \n",
       "4  0.734375  0.584961  0.891602  0.235596    1.0   0.0    0.0     0.0   \n",
       "\n",
       "     dewair  month  weekday  hour  meter_reading  \n",
       "0  0.120483    5.0      4.0  18.0       0.408936  \n",
       "1  0.120483    5.0      4.0  19.0       0.425537  \n",
       "2  0.158325    5.0      4.0  20.0       0.411133  \n",
       "3  0.196167    5.0      4.0  21.0       0.411865  \n",
       "4  0.139404    5.0      4.0  22.0       0.416504  "
      ]
     },
     "execution_count": 12,
     "metadata": {},
     "output_type": "execute_result"
    }
   ],
   "source": [
    "train_set0.head()"
   ]
  },
  {
   "cell_type": "markdown",
   "metadata": {},
   "source": [
    "all training data is prepared, now we need to split test_set and new train_set from original train_set"
   ]
  },
  {
   "cell_type": "code",
   "execution_count": 32,
   "metadata": {},
   "outputs": [
    {
     "name": "stdout",
     "output_type": "stream",
     "text": [
      "Wall time: 18.7 s\n"
     ]
    }
   ],
   "source": [
    "%%time\n",
    "from sklearn.model_selection import StratifiedShuffleSplit\n",
    "split = StratifiedShuffleSplit(n_splits=1, test_size = 0.1, random_state=99)\n",
    "for train_index, test_index in split.split(train_set0, train_set0.building_id):\n",
    "    strat_train_set0 = train_set0.loc[train_index]\n",
    "    strat_test_set0 = train_set0.loc[test_index]\n",
    "for train_index, test_index in split.split(train_set1, train_set1.building_id):\n",
    "    strat_train_set1 = train_set1.loc[train_index]\n",
    "    strat_test_set1 = train_set1.loc[test_index]\n",
    "for train_index, test_index in split.split(train_set2, train_set2.building_id):\n",
    "    strat_train_set2 = train_set2.loc[train_index]\n",
    "    strat_test_set2 = train_set2.loc[test_index]\n",
    "for train_index, test_index in split.split(train_set3, train_set3.building_id):\n",
    "    strat_train_set3 = train_set3.loc[train_index]\n",
    "    strat_test_set3 = train_set3.loc[test_index]"
   ]
  },
  {
   "cell_type": "code",
   "execution_count": 33,
   "metadata": {},
   "outputs": [
    {
     "data": {
      "text/html": [
       "<div>\n",
       "<style scoped>\n",
       "    .dataframe tbody tr th:only-of-type {\n",
       "        vertical-align: middle;\n",
       "    }\n",
       "\n",
       "    .dataframe tbody tr th {\n",
       "        vertical-align: top;\n",
       "    }\n",
       "\n",
       "    .dataframe thead th {\n",
       "        text-align: right;\n",
       "    }\n",
       "</style>\n",
       "<table border=\"1\" class=\"dataframe\">\n",
       "  <thead>\n",
       "    <tr style=\"text-align: right;\">\n",
       "      <th></th>\n",
       "      <th>site_id</th>\n",
       "      <th>building_id</th>\n",
       "      <th>primary_use</th>\n",
       "      <th>square_feet</th>\n",
       "      <th>timestamp</th>\n",
       "      <th>airtemp</th>\n",
       "      <th>sealev</th>\n",
       "      <th>dewtemp</th>\n",
       "      <th>windsp</th>\n",
       "      <th>North</th>\n",
       "      <th>West</th>\n",
       "      <th>South</th>\n",
       "      <th>nowind</th>\n",
       "      <th>dewair</th>\n",
       "      <th>month</th>\n",
       "      <th>weekday</th>\n",
       "      <th>hour</th>\n",
       "      <th>meter_reading</th>\n",
       "    </tr>\n",
       "  </thead>\n",
       "  <tbody>\n",
       "    <tr>\n",
       "      <td>2109112</td>\n",
       "      <td>2</td>\n",
       "      <td>280</td>\n",
       "      <td>1</td>\n",
       "      <td>0.120300</td>\n",
       "      <td>2016-10-21 14:00:00</td>\n",
       "      <td>0.676270</td>\n",
       "      <td>0.553223</td>\n",
       "      <td>0.630371</td>\n",
       "      <td>0.169434</td>\n",
       "      <td>1.0</td>\n",
       "      <td>0.0</td>\n",
       "      <td>0.0</td>\n",
       "      <td>0.0</td>\n",
       "      <td>0.339111</td>\n",
       "      <td>10.0</td>\n",
       "      <td>4.0</td>\n",
       "      <td>14.0</td>\n",
       "      <td>0.502441</td>\n",
       "    </tr>\n",
       "    <tr>\n",
       "      <td>125683</td>\n",
       "      <td>0</td>\n",
       "      <td>23</td>\n",
       "      <td>0</td>\n",
       "      <td>0.149292</td>\n",
       "      <td>2016-05-23 13:00:00</td>\n",
       "      <td>0.698242</td>\n",
       "      <td>0.561523</td>\n",
       "      <td>0.863770</td>\n",
       "      <td>0.107422</td>\n",
       "      <td>0.0</td>\n",
       "      <td>0.0</td>\n",
       "      <td>0.0</td>\n",
       "      <td>0.0</td>\n",
       "      <td>0.120483</td>\n",
       "      <td>5.0</td>\n",
       "      <td>0.0</td>\n",
       "      <td>13.0</td>\n",
       "      <td>0.549316</td>\n",
       "    </tr>\n",
       "    <tr>\n",
       "      <td>5977866</td>\n",
       "      <td>5</td>\n",
       "      <td>731</td>\n",
       "      <td>0</td>\n",
       "      <td>0.032990</td>\n",
       "      <td>2016-10-20 01:00:00</td>\n",
       "      <td>0.465088</td>\n",
       "      <td>0.554199</td>\n",
       "      <td>0.664551</td>\n",
       "      <td>0.061981</td>\n",
       "      <td>0.0</td>\n",
       "      <td>0.0</td>\n",
       "      <td>0.0</td>\n",
       "      <td>0.0</td>\n",
       "      <td>0.022369</td>\n",
       "      <td>10.0</td>\n",
       "      <td>3.0</td>\n",
       "      <td>1.0</td>\n",
       "      <td>0.180542</td>\n",
       "    </tr>\n",
       "    <tr>\n",
       "      <td>6091799</td>\n",
       "      <td>5</td>\n",
       "      <td>744</td>\n",
       "      <td>1</td>\n",
       "      <td>0.055298</td>\n",
       "      <td>2016-10-24 23:00:00</td>\n",
       "      <td>0.503906</td>\n",
       "      <td>0.554199</td>\n",
       "      <td>0.729492</td>\n",
       "      <td>0.210693</td>\n",
       "      <td>1.0</td>\n",
       "      <td>0.0</td>\n",
       "      <td>0.0</td>\n",
       "      <td>0.0</td>\n",
       "      <td>0.005165</td>\n",
       "      <td>10.0</td>\n",
       "      <td>0.0</td>\n",
       "      <td>23.0</td>\n",
       "      <td>0.261963</td>\n",
       "    </tr>\n",
       "    <tr>\n",
       "      <td>7026077</td>\n",
       "      <td>8</td>\n",
       "      <td>867</td>\n",
       "      <td>9</td>\n",
       "      <td>0.075012</td>\n",
       "      <td>2016-04-28 18:00:00</td>\n",
       "      <td>0.785156</td>\n",
       "      <td>0.576172</td>\n",
       "      <td>0.846191</td>\n",
       "      <td>0.061981</td>\n",
       "      <td>0.0</td>\n",
       "      <td>0.0</td>\n",
       "      <td>1.0</td>\n",
       "      <td>0.0</td>\n",
       "      <td>0.254639</td>\n",
       "      <td>4.0</td>\n",
       "      <td>3.0</td>\n",
       "      <td>18.0</td>\n",
       "      <td>0.469727</td>\n",
       "    </tr>\n",
       "  </tbody>\n",
       "</table>\n",
       "</div>"
      ],
      "text/plain": [
       "         site_id  building_id  primary_use  square_feet            timestamp  \\\n",
       "2109112        2          280            1     0.120300  2016-10-21 14:00:00   \n",
       "125683         0           23            0     0.149292  2016-05-23 13:00:00   \n",
       "5977866        5          731            0     0.032990  2016-10-20 01:00:00   \n",
       "6091799        5          744            1     0.055298  2016-10-24 23:00:00   \n",
       "7026077        8          867            9     0.075012  2016-04-28 18:00:00   \n",
       "\n",
       "          airtemp    sealev   dewtemp    windsp  North  West  South  nowind  \\\n",
       "2109112  0.676270  0.553223  0.630371  0.169434    1.0   0.0    0.0     0.0   \n",
       "125683   0.698242  0.561523  0.863770  0.107422    0.0   0.0    0.0     0.0   \n",
       "5977866  0.465088  0.554199  0.664551  0.061981    0.0   0.0    0.0     0.0   \n",
       "6091799  0.503906  0.554199  0.729492  0.210693    1.0   0.0    0.0     0.0   \n",
       "7026077  0.785156  0.576172  0.846191  0.061981    0.0   0.0    1.0     0.0   \n",
       "\n",
       "           dewair  month  weekday  hour  meter_reading  \n",
       "2109112  0.339111   10.0      4.0  14.0       0.502441  \n",
       "125683   0.120483    5.0      0.0  13.0       0.549316  \n",
       "5977866  0.022369   10.0      3.0   1.0       0.180542  \n",
       "6091799  0.005165   10.0      0.0  23.0       0.261963  \n",
       "7026077  0.254639    4.0      3.0  18.0       0.469727  "
      ]
     },
     "execution_count": 33,
     "metadata": {},
     "output_type": "execute_result"
    }
   ],
   "source": [
    "strat_train_set0.head()"
   ]
  },
  {
   "cell_type": "code",
   "execution_count": 17,
   "metadata": {},
   "outputs": [
    {
     "data": {
      "text/plain": [
       "8335"
      ]
     },
     "execution_count": 17,
     "metadata": {},
     "output_type": "execute_result"
    }
   ],
   "source": [
    "del train_set0\n",
    "del train_set1\n",
    "del train_set2\n",
    "del train_set3\n",
    "gc.collect()"
   ]
  },
  {
   "cell_type": "code",
   "execution_count": 35,
   "metadata": {},
   "outputs": [],
   "source": [
    "X0 = [strat_train_set0.building_id.values, strat_train_set0.primary_use.values, \n",
    "      strat_train_set0.month.values, strat_train_set0.weekday.values, strat_train_set0.hour.values, \n",
    "      strat_train_set0.drop(['site_id','building_id','timestamp','meter_reading','dewair'], axis=1).values]\n",
    "y0 = strat_train_set0.meter_reading.values\n",
    "\n",
    "X1 = [strat_train_set1.building_id.values, strat_train_set1.primary_use.values, \n",
    "      strat_train_set1.month.values, strat_train_set1.weekday.values, strat_train_set1.hour.values, \n",
    "      strat_train_set1.drop(['site_id','building_id','timestamp','meter_reading','dewair'], axis=1).values]\n",
    "y1 = strat_train_set1.meter_reading.values\n",
    "\n",
    "X2 = [strat_train_set2.building_id.values, strat_train_set2.primary_use.values, \n",
    "      strat_train_set2.month.values, strat_train_set2.weekday.values, strat_train_set2.hour.values, \n",
    "      strat_train_set2.drop(['site_id','building_id','timestamp','meter_reading','dewair'], axis=1).values]\n",
    "y2 = strat_train_set2.meter_reading.values\n",
    "\n",
    "X3 = [strat_train_set3.building_id.values, strat_train_set3.primary_use.values, \n",
    "      strat_train_set3.month.values, strat_train_set3.weekday.values, strat_train_set3.hour.values, \n",
    "      strat_train_set3.drop(['site_id','building_id','timestamp','meter_reading','dewair'], axis=1).values]\n",
    "y3 = strat_train_set3.meter_reading.values"
   ]
  },
  {
   "cell_type": "code",
   "execution_count": 36,
   "metadata": {},
   "outputs": [],
   "source": [
    "X0_test = [strat_test_set0.building_id.values, strat_test_set0.primary_use.values, \n",
    "      strat_test_set0.month.values, strat_test_set0.weekday.values, strat_test_set0.hour.values, \n",
    "      strat_test_set0.drop(['site_id','building_id','timestamp','meter_reading','dewair'], axis=1).values]\n",
    "y0_test = strat_test_set0.meter_reading.values\n",
    "\n",
    "X1_test = [strat_test_set1.building_id.values, strat_test_set1.primary_use.values, \n",
    "      strat_test_set1.month.values, strat_test_set1.weekday.values, strat_test_set1.hour.values, \n",
    "      strat_test_set1.drop(['site_id','building_id','timestamp','meter_reading','dewair'], axis=1).values]\n",
    "y1_test = strat_test_set1.meter_reading.values\n",
    "\n",
    "X2_test = [strat_test_set2.building_id.values, strat_test_set2.primary_use.values, \n",
    "      strat_test_set2.month.values, strat_test_set2.weekday.values, strat_test_set2.hour.values, \n",
    "      strat_test_set2.drop(['site_id','building_id','timestamp','meter_reading','dewair'], axis=1).values]\n",
    "y2_test = strat_test_set2.meter_reading.values\n",
    "\n",
    "X3_test = [strat_test_set3.building_id.values, strat_test_set3.primary_use.values, \n",
    "      strat_test_set3.month.values, strat_test_set3.weekday.values, strat_test_set3.hour.values, \n",
    "      strat_test_set3.drop(['site_id','building_id','timestamp','meter_reading','dewair'], axis=1).values]\n",
    "y3_test = strat_test_set3.meter_reading.values"
   ]
  },
  {
   "cell_type": "code",
   "execution_count": 12,
   "metadata": {},
   "outputs": [],
   "source": [
    "def build_model():\n",
    "    \n",
    "    embeddings = []\n",
    "    \n",
    "    input_building_id = tf.keras.layers.Input(shape=(1,), name='input_building_id')\n",
    "    building_id_emb = tf.keras.layers.Embedding(1449, 20, name = 'building_id_emb')(input_building_id)\n",
    "    building_id_emb = tf.keras.layers.Flatten()(building_id_emb)\n",
    "    building_id_emb = tf.keras.layers.BatchNormalization()(building_id_emb)\n",
    "    building_id_emb = tf.keras.layers.Dropout(0.2)(building_id_emb)\n",
    "    building_id_emb = tf.keras.layers.Dense(10, activation='relu')(building_id_emb)\n",
    "    \n",
    "    embeddings.append(building_id_emb)\n",
    "    \n",
    "    input_primary_use = tf.keras.layers.Input(shape=(1,), name='input_primary_use')\n",
    "    primary_use_emb = tf.keras.layers.Embedding(16, 5, name = 'primary_use_emb')(input_primary_use)\n",
    "    primary_use_emb = tf.keras.layers.Flatten()(primary_use_emb)\n",
    "    primary_use_emb = tf.keras.layers.BatchNormalization()(primary_use_emb)\n",
    "    primary_use_emb = tf.keras.layers.Dropout(0.1)(primary_use_emb)\n",
    "    primary_use_emb = tf.keras.layers.Dense(2, activation='relu')(primary_use_emb)\n",
    "\n",
    "    embeddings.append(primary_use_emb)\n",
    "    \n",
    "    input_month = tf.keras.layers.Input(shape=(1,), name='input_month')\n",
    "    month_emb = tf.keras.layers.Embedding(12, 4, name = 'month_emb')(input_month)\n",
    "    month_emb = tf.keras.layers.Flatten()(month_emb)\n",
    "    month_emb = tf.keras.layers.BatchNormalization()(month_emb)\n",
    "    month_emb = tf.keras.layers.Dropout(0.1)(month_emb)\n",
    "    month_emb = tf.keras.layers.Dense(2, activation='relu')(month_emb)\n",
    "\n",
    "    embeddings.append(month_emb)\n",
    "    \n",
    "    input_weekday = tf.keras.layers.Input(shape=(1,), name='input_weekday')\n",
    "    weekday_emb = tf.keras.layers.Embedding(7, 3, name = 'month_emb')(input_weekday)\n",
    "    weekday_emb = tf.keras.layers.Flatten()(weekday_emb)\n",
    "    weekday_emb = tf.keras.layers.BatchNormalization()(weekday_emb)\n",
    "    weekday_emb = tf.keras.layers.Dense(2, activation='relu')(weekday_emb)\n",
    "\n",
    "    embeddings.append(month_emb)\n",
    "    \n",
    "    input_hour = tf.keras.layers.Input(shape=(1,), name='input_hour')\n",
    "    hour_emb = tf.keras.layers.Embedding(24, 6, name = 'hour_emb')(input_hour)\n",
    "    hour_emb = tf.keras.layers.Flatten()(hour_emb)\n",
    "    hour_emb = tf.keras.layers.BatchNormalization()(hour_emb)\n",
    "    hour_emb = tf.keras.layers.Dense(3, activation='relu')(hour_emb)\n",
    "\n",
    "    embeddings.append(hour_emb)\n",
    "\n",
    "    \n",
    "    input_numeric = tf.keras.layers.Input(shape=(13,), name = 'input_numeric')\n",
    "#    embedding_num = tf.keras.layers.Dense(35)(input_numeric)\n",
    "    \n",
    "    embeddings.append(input_numeric)\n",
    "    \n",
    "    main_Layers = tf.keras.layers.Concatenate()(embeddings)\n",
    "    \n",
    "    # input size = 32\n",
    "    main_Layers = tf.keras.layers.Dense(50, activation='relu')(main_Layers)\n",
    "    main_Layers = tf.keras.layers.BatchNormalization()(main_Layers)\n",
    "    main_Layers = tf.keras.layers.Dropout(0.05)(main_Layers)\n",
    "    main_Layers = tf.keras.layers.Dense(20, activation='relu')(main_Layers)\n",
    "    main_Layers = tf.keras.layers.BatchNormalization()(main_Layers)\n",
    "    main_Layers = tf.keras.layers.Dropout(0.05)(main_Layers)\n",
    "    main_Layers = tf.keras.layers.Dense(5, activation='relu')(main_Layers)\n",
    "    main_Layers = tf.keras.layers.BatchNormalization()(main_Layers)\n",
    "    main_Layers = tf.keras.layers.Dropout(0.05)(main_Layers)\n",
    "    output = tf.keras.layers.Dense(1)(main_Layers)\n",
    "\n",
    "    model = tf.keras.Model([input_building_id, input_primary_use, input_month,\n",
    "                            input_weekday, input_hour, input_numeric], output)\n",
    "    \n",
    "    model.compile(optimizer=tf.keras.optimizers.Adam(learning_rate = 0.001,beta_1=0.9,beta_2=0.999, epsilon=1e-08), \n",
    "                  loss='mse' # tf.keras.losses.mean_squared_error\n",
    "                  , metrics=['mae']\n",
    "                 )\n",
    "    return model"
   ]
  },
  {
   "cell_type": "code",
   "execution_count": 13,
   "metadata": {},
   "outputs": [],
   "source": [
    "model_meter0 = build_model()\n",
    "model_meter1 = build_model()\n",
    "model_meter2 = build_model()\n",
    "model_meter3 = build_model()"
   ]
  },
  {
   "cell_type": "code",
   "execution_count": 14,
   "metadata": {},
   "outputs": [
    {
     "name": "stdout",
     "output_type": "stream",
     "text": [
      "Model: \"model\"\n",
      "__________________________________________________________________________________________________\n",
      "Layer (type)                    Output Shape         Param #     Connected to                     \n",
      "==================================================================================================\n",
      "input_building_id (InputLayer)  [(None, 1)]          0                                            \n",
      "__________________________________________________________________________________________________\n",
      "input_primary_use (InputLayer)  [(None, 1)]          0                                            \n",
      "__________________________________________________________________________________________________\n",
      "input_month (InputLayer)        [(None, 1)]          0                                            \n",
      "__________________________________________________________________________________________________\n",
      "building_id_emb (Embedding)     (None, 1, 20)        28980       input_building_id[0][0]          \n",
      "__________________________________________________________________________________________________\n",
      "primary_use_emb (Embedding)     (None, 1, 5)         80          input_primary_use[0][0]          \n",
      "__________________________________________________________________________________________________\n",
      "month_emb (Embedding)           (None, 1, 4)         48          input_month[0][0]                \n",
      "__________________________________________________________________________________________________\n",
      "input_hour (InputLayer)         [(None, 1)]          0                                            \n",
      "__________________________________________________________________________________________________\n",
      "flatten (Flatten)               (None, 20)           0           building_id_emb[0][0]            \n",
      "__________________________________________________________________________________________________\n",
      "flatten_1 (Flatten)             (None, 5)            0           primary_use_emb[0][0]            \n",
      "__________________________________________________________________________________________________\n",
      "flatten_2 (Flatten)             (None, 4)            0           month_emb[0][0]                  \n",
      "__________________________________________________________________________________________________\n",
      "hour_emb (Embedding)            (None, 1, 6)         144         input_hour[0][0]                 \n",
      "__________________________________________________________________________________________________\n",
      "batch_normalization (BatchNorma (None, 20)           80          flatten[0][0]                    \n",
      "__________________________________________________________________________________________________\n",
      "batch_normalization_1 (BatchNor (None, 5)            20          flatten_1[0][0]                  \n",
      "__________________________________________________________________________________________________\n",
      "batch_normalization_2 (BatchNor (None, 4)            16          flatten_2[0][0]                  \n",
      "__________________________________________________________________________________________________\n",
      "flatten_4 (Flatten)             (None, 6)            0           hour_emb[0][0]                   \n",
      "__________________________________________________________________________________________________\n",
      "dropout (Dropout)               (None, 20)           0           batch_normalization[0][0]        \n",
      "__________________________________________________________________________________________________\n",
      "dropout_1 (Dropout)             (None, 5)            0           batch_normalization_1[0][0]      \n",
      "__________________________________________________________________________________________________\n",
      "dropout_2 (Dropout)             (None, 4)            0           batch_normalization_2[0][0]      \n",
      "__________________________________________________________________________________________________\n",
      "batch_normalization_4 (BatchNor (None, 6)            24          flatten_4[0][0]                  \n",
      "__________________________________________________________________________________________________\n",
      "dense (Dense)                   (None, 10)           210         dropout[0][0]                    \n",
      "__________________________________________________________________________________________________\n",
      "dense_1 (Dense)                 (None, 2)            12          dropout_1[0][0]                  \n",
      "__________________________________________________________________________________________________\n",
      "dense_2 (Dense)                 (None, 2)            10          dropout_2[0][0]                  \n",
      "__________________________________________________________________________________________________\n",
      "dense_4 (Dense)                 (None, 3)            21          batch_normalization_4[0][0]      \n",
      "__________________________________________________________________________________________________\n",
      "input_numeric (InputLayer)      [(None, 13)]         0                                            \n",
      "__________________________________________________________________________________________________\n",
      "concatenate (Concatenate)       (None, 32)           0           dense[0][0]                      \n",
      "                                                                 dense_1[0][0]                    \n",
      "                                                                 dense_2[0][0]                    \n",
      "                                                                 dense_2[0][0]                    \n",
      "                                                                 dense_4[0][0]                    \n",
      "                                                                 input_numeric[0][0]              \n",
      "__________________________________________________________________________________________________\n",
      "dense_5 (Dense)                 (None, 50)           1650        concatenate[0][0]                \n",
      "__________________________________________________________________________________________________\n",
      "batch_normalization_5 (BatchNor (None, 50)           200         dense_5[0][0]                    \n",
      "__________________________________________________________________________________________________\n",
      "dropout_3 (Dropout)             (None, 50)           0           batch_normalization_5[0][0]      \n",
      "__________________________________________________________________________________________________\n",
      "dense_6 (Dense)                 (None, 20)           1020        dropout_3[0][0]                  \n",
      "__________________________________________________________________________________________________\n",
      "batch_normalization_6 (BatchNor (None, 20)           80          dense_6[0][0]                    \n",
      "__________________________________________________________________________________________________\n",
      "dropout_4 (Dropout)             (None, 20)           0           batch_normalization_6[0][0]      \n",
      "__________________________________________________________________________________________________\n",
      "dense_7 (Dense)                 (None, 5)            105         dropout_4[0][0]                  \n",
      "__________________________________________________________________________________________________\n",
      "batch_normalization_7 (BatchNor (None, 5)            20          dense_7[0][0]                    \n",
      "__________________________________________________________________________________________________\n",
      "dropout_5 (Dropout)             (None, 5)            0           batch_normalization_7[0][0]      \n",
      "__________________________________________________________________________________________________\n",
      "input_weekday (InputLayer)      [(None, 1)]          0                                            \n",
      "__________________________________________________________________________________________________\n",
      "dense_8 (Dense)                 (None, 1)            6           dropout_5[0][0]                  \n",
      "==================================================================================================\n",
      "Total params: 32,726\n",
      "Trainable params: 32,506\n",
      "Non-trainable params: 220\n",
      "__________________________________________________________________________________________________\n"
     ]
    }
   ],
   "source": [
    "model_meter0.summary()"
   ]
  },
  {
   "cell_type": "code",
   "execution_count": 57,
   "metadata": {
    "scrolled": false
   },
   "outputs": [
    {
     "name": "stdout",
     "output_type": "stream",
     "text": [
      "WARNING:tensorflow:Falling back from v2 loop because of error: Failed to find data adapter that can handle input: (<class 'list'> containing values of types {\"<class 'numpy.ndarray'>\", \"<class 'pandas.core.series.Series'>\"}), <class 'NoneType'>\n",
      "Train on 10508636 samples\n",
      "Epoch 1/3\n",
      "10508636/10508636 [==============================] - 852s 81us/sample - loss: 0.0044 - mae: 0.0400\n",
      "Epoch 2/3\n",
      "10508636/10508636 [==============================] - 834s 79us/sample - loss: 0.0032 - mae: 0.0359\n",
      "Epoch 3/3\n",
      "10508636/10508636 [==============================] - 839s 80us/sample - loss: 0.0032 - mae: 0.0354\n"
     ]
    }
   ],
   "source": [
    "history = model_meter0.fit(X0, y0, epochs=3\n",
    "                           , batch_size=64\n",
    "#                          , verbose=0\n",
    "                          )"
   ]
  },
  {
   "cell_type": "code",
   "execution_count": null,
   "metadata": {},
   "outputs": [
    {
     "name": "stdout",
     "output_type": "stream",
     "text": [
      "Wall time: 0 ns\n"
     ]
    }
   ],
   "source": [
    "# model1.evaluate(X_test, y_test)"
   ]
  },
  {
   "cell_type": "code",
   "execution_count": 63,
   "metadata": {},
   "outputs": [
    {
     "name": "stdout",
     "output_type": "stream",
     "text": [
      "WARNING:tensorflow:Falling back from v2 loop because of error: Failed to find data adapter that can handle input: (<class 'list'> containing values of types {\"<class 'numpy.ndarray'>\", \"<class 'pandas.core.series.Series'>\"}), <class 'NoneType'>\n"
     ]
    }
   ],
   "source": [
    "test_pred = model_meter0.predict(X0_test)"
   ]
  },
  {
   "cell_type": "code",
   "execution_count": 64,
   "metadata": {
    "scrolled": true
   },
   "outputs": [
    {
     "name": "stdout",
     "output_type": "stream",
     "text": [
      "0.048293296\n"
     ]
    }
   ],
   "source": [
    "test_rmse = np.sqrt(mean_squared_error(y0_test, test_pred))\n",
    "print(test_rmse)"
   ]
  },
  {
   "cell_type": "code",
   "execution_count": 43,
   "metadata": {},
   "outputs": [
    {
     "name": "stdout",
     "output_type": "stream",
     "text": [
      "Train on 3744081 samples\n",
      "Epoch 1/3\n",
      "3744081/3744081 [==============================] - 187s 50us/sample - loss: 0.0078 - mae: 0.0571\n",
      "Epoch 2/3\n",
      "3744081/3744081 [==============================] - 203s 54us/sample - loss: 0.0077 - mae: 0.0566\n",
      "Epoch 3/3\n",
      "3744081/3744081 [==============================] - 204s 55us/sample - loss: 0.0076 - mae: 0.0565\n"
     ]
    }
   ],
   "source": [
    "history = model_meter1.fit(X1, y1, epochs=3\n",
    "                           , batch_size=64\n",
    "#                          , verbose=0\n",
    "                          )"
   ]
  },
  {
   "cell_type": "code",
   "execution_count": 44,
   "metadata": {},
   "outputs": [
    {
     "name": "stdout",
     "output_type": "stream",
     "text": [
      "Train on 2418010 samples\n",
      "Epoch 1/6\n",
      "2418010/2418010 [==============================] - 136s 56us/sample - loss: 0.0059 - mae: 0.0497\n",
      "Epoch 2/6\n",
      "2418010/2418010 [==============================] - 132s 55us/sample - loss: 0.0058 - mae: 0.0492\n",
      "Epoch 3/6\n",
      "2418010/2418010 [==============================] - 131s 54us/sample - loss: 0.0058 - mae: 0.0490\n",
      "Epoch 4/6\n",
      "2418010/2418010 [==============================] - 129s 54us/sample - loss: 0.0058 - mae: 0.0489\n",
      "Epoch 5/6\n",
      "2418010/2418010 [==============================] - 130s 54us/sample - loss: 0.0057 - mae: 0.0487\n",
      "Epoch 6/6\n",
      "2418010/2418010 [==============================] - 129s 53us/sample - loss: 0.0057 - mae: 0.0486\n"
     ]
    }
   ],
   "source": [
    "history = model_meter2.fit(X2, y2, epochs=6\n",
    "                           , batch_size=64\n",
    "#                          , verbose=0\n",
    "                          )"
   ]
  },
  {
   "cell_type": "code",
   "execution_count": 45,
   "metadata": {},
   "outputs": [
    {
     "name": "stdout",
     "output_type": "stream",
     "text": [
      "Train on 1135278 samples\n",
      "Epoch 1/20\n",
      "1135278/1135278 [==============================] - 59s 52us/sample - loss: 0.0138 - mae: 0.0781\n",
      "Epoch 2/20\n",
      "1135278/1135278 [==============================] - 71s 63us/sample - loss: 0.0137 - mae: 0.0776\n",
      "Epoch 3/20\n",
      "1135278/1135278 [==============================] - 57s 51us/sample - loss: 0.0136 - mae: 0.0771\n",
      "Epoch 4/20\n",
      "1135278/1135278 [==============================] - 71s 62us/sample - loss: 0.0135 - mae: 0.0770\n",
      "Epoch 5/20\n",
      "1135278/1135278 [==============================] - 72s 63us/sample - loss: 0.0135 - mae: 0.0766\n",
      "Epoch 6/20\n",
      "1135278/1135278 [==============================] - 71s 63us/sample - loss: 0.0134 - mae: 0.0764\n",
      "Epoch 7/20\n",
      "1135278/1135278 [==============================] - 73s 64us/sample - loss: 0.0134 - mae: 0.0763\n",
      "Epoch 8/20\n",
      "1135278/1135278 [==============================] - 57s 50us/sample - loss: 0.0133 - mae: 0.0762\n",
      "Epoch 9/20\n",
      "1135278/1135278 [==============================] - 59s 52us/sample - loss: 0.0133 - mae: 0.0761\n",
      "Epoch 10/20\n",
      "1135278/1135278 [==============================] - 59s 52us/sample - loss: 0.0133 - mae: 0.0760\n",
      "Epoch 11/20\n",
      "1135278/1135278 [==============================] - 77s 68us/sample - loss: 0.0133 - mae: 0.0760\n",
      "Epoch 12/20\n",
      "1135278/1135278 [==============================] - 70s 62us/sample - loss: 0.0132 - mae: 0.0759\n",
      "Epoch 13/20\n",
      "1135278/1135278 [==============================] - 71s 62us/sample - loss: 0.0132 - mae: 0.0757\n",
      "Epoch 14/20\n",
      "1135278/1135278 [==============================] - 83s 73us/sample - loss: 0.0132 - mae: 0.0757\n",
      "Epoch 15/20\n",
      "1135278/1135278 [==============================] - 66s 58us/sample - loss: 0.0132 - mae: 0.0756\n",
      "Epoch 16/20\n",
      "1135278/1135278 [==============================] - 72s 64us/sample - loss: 0.0131 - mae: 0.0755\n",
      "Epoch 17/20\n",
      "1135278/1135278 [==============================] - 66s 58us/sample - loss: 0.0131 - mae: 0.0754\n",
      "Epoch 18/20\n",
      "1135278/1135278 [==============================] - 65s 57us/sample - loss: 0.0131 - mae: 0.0753\n",
      "Epoch 19/20\n",
      "1135278/1135278 [==============================] - 64s 57us/sample - loss: 0.0131 - mae: 0.0755\n",
      "Epoch 20/20\n",
      "1135278/1135278 [==============================] - 82s 72us/sample - loss: 0.0131 - mae: 0.0753\n"
     ]
    }
   ],
   "source": [
    "history = model_meter3.fit(X3, y3, epochs=20\n",
    "                           , batch_size=64\n",
    "#                          , verbose=0\n",
    "                          )"
   ]
  },
  {
   "cell_type": "code",
   "execution_count": 46,
   "metadata": {},
   "outputs": [],
   "source": [
    "model_meter0.save('model_meter0.h5')\n",
    "model_meter1.save('model_meter1.h5')\n",
    "model_meter2.save('model_meter2.h5')\n",
    "model_meter3.save('model_meter3.h5')"
   ]
  },
  {
   "cell_type": "code",
   "execution_count": 47,
   "metadata": {},
   "outputs": [
    {
     "data": {
      "text/plain": [
       "[('strat_train_set0', 1192.5961570739746),\n",
       " ('strat_train_set1', 432.0467233657837),\n",
       " ('strat_train_set2', 279.02530097961426),\n",
       " ('strat_test_set0', 132.51079273223877),\n",
       " ('strat_train_set3', 131.0049648284912),\n",
       " ('strat_test_set1', 48.00521183013916),\n",
       " ('strat_test_set2', 31.002857208251953),\n",
       " ('strat_test_set3', 14.556242942810059),\n",
       " ('train_index', 8.661575317382812),\n",
       " ('test_index', 0.9624862670898438),\n",
       " ('LabelEncoder', 0.001007080078125),\n",
       " ('StratifiedShuffleSplit', 0.001007080078125),\n",
       " ('MinMaxScaler', 0.00084686279296875),\n",
       " ('RobustScaler', 0.00084686279296875),\n",
       " ('build_model', 0.00012969970703125),\n",
       " ('reduce_mem_usage', 0.00012969970703125),\n",
       " ('X0', 0.0001068115234375),\n",
       " ('X0_test', 0.0001068115234375),\n",
       " ('X1', 0.0001068115234375),\n",
       " ('X1_test', 0.0001068115234375),\n",
       " ('X2', 0.0001068115234375),\n",
       " ('X2_test', 0.0001068115234375),\n",
       " ('X3', 0.0001068115234375),\n",
       " ('X3_test', 0.0001068115234375),\n",
       " ('y0', 9.1552734375e-05),\n",
       " ('y0_test', 9.1552734375e-05),\n",
       " ('y1', 9.1552734375e-05),\n",
       " ('y1_test', 9.1552734375e-05),\n",
       " ('y2', 9.1552734375e-05),\n",
       " ('y2_test', 9.1552734375e-05),\n",
       " ('y3', 9.1552734375e-05),\n",
       " ('y3_test', 9.1552734375e-05),\n",
       " ('np', 7.62939453125e-05),\n",
       " ('pd', 7.62939453125e-05),\n",
       " ('plt', 7.62939453125e-05),\n",
       " ('sns', 7.62939453125e-05),\n",
       " ('tf', 7.62939453125e-05),\n",
       " ('history', 5.340576171875e-05),\n",
       " ('le', 5.340576171875e-05),\n",
       " ('mm_0', 5.340576171875e-05),\n",
       " ('mm_1', 5.340576171875e-05),\n",
       " ('mm_2', 5.340576171875e-05),\n",
       " ('mm_3', 5.340576171875e-05),\n",
       " ('model_meter0', 5.340576171875e-05),\n",
       " ('model_meter1', 5.340576171875e-05),\n",
       " ('model_meter2', 5.340576171875e-05),\n",
       " ('model_meter3', 5.340576171875e-05),\n",
       " ('rob_0', 5.340576171875e-05),\n",
       " ('rob_1', 5.340576171875e-05),\n",
       " ('rob_2', 5.340576171875e-05),\n",
       " ('rob_3', 5.340576171875e-05),\n",
       " ('split', 5.340576171875e-05)]"
      ]
     },
     "execution_count": 47,
     "metadata": {},
     "output_type": "execute_result"
    }
   ],
   "source": [
    "## list memory taken of objects\n",
    "import sys\n",
    "# These are the usual ipython objects, including this one you are creating\n",
    "ipython_vars = ['In', 'Out', 'exit', 'quit', 'get_ipython', 'ipython_vars']\n",
    "# Get a sorted list of the objects and their sizes\n",
    "sorted([(x, sys.getsizeof(globals().get(x)) / 1024**2) for x in dir() if not x.startswith('_') and x not in sys.modules and x not in ipython_vars], key=lambda x: x[1], reverse=True)"
   ]
  },
  {
   "cell_type": "code",
   "execution_count": 51,
   "metadata": {},
   "outputs": [
    {
     "ename": "NameError",
     "evalue": "name 'strat_train_set0' is not defined",
     "output_type": "error",
     "traceback": [
      "\u001b[1;31m---------------------------------------------------------------------------\u001b[0m",
      "\u001b[1;31mNameError\u001b[0m                                 Traceback (most recent call last)",
      "\u001b[1;32m<ipython-input-51-70fa9d9aa9ce>\u001b[0m in \u001b[0;36m<module>\u001b[1;34m\u001b[0m\n\u001b[1;32m----> 1\u001b[1;33m \u001b[1;32mdel\u001b[0m \u001b[0mstrat_train_set0\u001b[0m\u001b[1;33m\u001b[0m\u001b[1;33m\u001b[0m\u001b[0m\n\u001b[0m\u001b[0;32m      2\u001b[0m \u001b[1;32mdel\u001b[0m \u001b[0mstrat_train_set1\u001b[0m\u001b[1;33m\u001b[0m\u001b[1;33m\u001b[0m\u001b[0m\n\u001b[0;32m      3\u001b[0m \u001b[1;32mdel\u001b[0m \u001b[0mstrat_train_set2\u001b[0m\u001b[1;33m\u001b[0m\u001b[1;33m\u001b[0m\u001b[0m\n\u001b[0;32m      4\u001b[0m \u001b[1;32mdel\u001b[0m \u001b[0mstrat_train_set3\u001b[0m\u001b[1;33m\u001b[0m\u001b[1;33m\u001b[0m\u001b[0m\n\u001b[0;32m      5\u001b[0m \u001b[1;32mdel\u001b[0m \u001b[0mstrat_test_set0\u001b[0m\u001b[1;33m\u001b[0m\u001b[1;33m\u001b[0m\u001b[0m\n",
      "\u001b[1;31mNameError\u001b[0m: name 'strat_train_set0' is not defined"
     ]
    }
   ],
   "source": [
    "del strat_train_set0\n",
    "del strat_train_set1\n",
    "del strat_train_set2\n",
    "del strat_train_set3\n",
    "del strat_test_set0\n",
    "del strat_test_set1\n",
    "del strat_test_set2\n",
    "del strat_test_set3\n",
    "gc.collect()"
   ]
  },
  {
   "cell_type": "markdown",
   "metadata": {},
   "source": [
    "### predict the submit sets"
   ]
  },
  {
   "cell_type": "code",
   "execution_count": 3,
   "metadata": {},
   "outputs": [],
   "source": [
    "le = pickle.load(open('LabelEncoder_primary_use.pkl', 'rb'))\n",
    "rob_0 = pickle.load(open('rob_0.pkl', 'rb'))\n",
    "mm_0 = pickle.load(open('mm_0.pkl', 'rb'))\n",
    "rob_1 = pickle.load(open('rob_1.pkl', 'rb'))\n",
    "mm_1 = pickle.load(open('mm_1.pkl', 'rb'))\n",
    "rob_2 = pickle.load(open('rob_2.pkl', 'rb'))\n",
    "mm_2 = pickle.load(open('mm_2.pkl', 'rb'))\n",
    "rob_3 = pickle.load(open('rob_3.pkl', 'rb'))\n",
    "mm_3 = pickle.load(open('mm_3.pkl', 'rb'))"
   ]
  },
  {
   "cell_type": "markdown",
   "metadata": {},
   "source": [
    "##### predict submit set with meter 0"
   ]
  },
  {
   "cell_type": "code",
   "execution_count": 10,
   "metadata": {},
   "outputs": [
    {
     "name": "stdout",
     "output_type": "stream",
     "text": [
      "Mem. usage decreased from 3385.10 Mb to 1151.87 Mb (66.0% reduction)\n"
     ]
    }
   ],
   "source": [
    "# read data from file:\n",
    "submit_set0 = pd.read_csv('C:/data/Kaggle_ASHRAE_energy/test_set0.csv')\n",
    "submit_set0 = reduce_mem_usage(submit_set0)"
   ]
  },
  {
   "cell_type": "code",
   "execution_count": 11,
   "metadata": {},
   "outputs": [],
   "source": [
    "submit_set0[\"primary_use\"] = le.transform(submit_set0[\"primary_use\"])"
   ]
  },
  {
   "cell_type": "code",
   "execution_count": 12,
   "metadata": {},
   "outputs": [
    {
     "name": "stderr",
     "output_type": "stream",
     "text": [
      "C:\\Users\\raymond.guo\\AppData\\Local\\Continuum\\anaconda3\\lib\\site-packages\\ipykernel_launcher.py:2: SettingWithCopyWarning: \n",
      "A value is trying to be set on a copy of a slice from a DataFrame\n",
      "\n",
      "See the caveats in the documentation: http://pandas.pydata.org/pandas-docs/stable/user_guide/indexing.html#returning-a-view-versus-a-copy\n",
      "  \n"
     ]
    }
   ],
   "source": [
    "# replace month = 12 with 0\n",
    "submit_set0.month[submit_set0.month==12] = 0"
   ]
  },
  {
   "cell_type": "code",
   "execution_count": 13,
   "metadata": {},
   "outputs": [
    {
     "data": {
      "text/html": [
       "<div>\n",
       "<style scoped>\n",
       "    .dataframe tbody tr th:only-of-type {\n",
       "        vertical-align: middle;\n",
       "    }\n",
       "\n",
       "    .dataframe tbody tr th {\n",
       "        vertical-align: top;\n",
       "    }\n",
       "\n",
       "    .dataframe thead th {\n",
       "        text-align: right;\n",
       "    }\n",
       "</style>\n",
       "<table border=\"1\" class=\"dataframe\">\n",
       "  <thead>\n",
       "    <tr style=\"text-align: right;\">\n",
       "      <th></th>\n",
       "      <th>site_id</th>\n",
       "      <th>building_id</th>\n",
       "      <th>primary_use</th>\n",
       "      <th>square_feet</th>\n",
       "      <th>timestamp</th>\n",
       "      <th>airtemp</th>\n",
       "      <th>sealev</th>\n",
       "      <th>dewtemp</th>\n",
       "      <th>windsp</th>\n",
       "      <th>North</th>\n",
       "      <th>West</th>\n",
       "      <th>South</th>\n",
       "      <th>nowind</th>\n",
       "      <th>dewair</th>\n",
       "      <th>month</th>\n",
       "      <th>weekday</th>\n",
       "      <th>hour</th>\n",
       "      <th>row_id</th>\n",
       "    </tr>\n",
       "  </thead>\n",
       "  <tbody>\n",
       "    <tr>\n",
       "      <td>0</td>\n",
       "      <td>0</td>\n",
       "      <td>0</td>\n",
       "      <td>0</td>\n",
       "      <td>0.008171</td>\n",
       "      <td>2017-01-01 00:00:00</td>\n",
       "      <td>0.604980</td>\n",
       "      <td>0.649414</td>\n",
       "      <td>0.756836</td>\n",
       "      <td>0.148804</td>\n",
       "      <td>1.0</td>\n",
       "      <td>0.0</td>\n",
       "      <td>0.0</td>\n",
       "      <td>0.0</td>\n",
       "      <td>0.110168</td>\n",
       "      <td>1.0</td>\n",
       "      <td>6.0</td>\n",
       "      <td>0.0</td>\n",
       "      <td>0</td>\n",
       "    </tr>\n",
       "    <tr>\n",
       "      <td>1</td>\n",
       "      <td>0</td>\n",
       "      <td>0</td>\n",
       "      <td>0</td>\n",
       "      <td>0.008171</td>\n",
       "      <td>2017-01-01 01:00:00</td>\n",
       "      <td>0.604980</td>\n",
       "      <td>0.656738</td>\n",
       "      <td>0.774902</td>\n",
       "      <td>0.128052</td>\n",
       "      <td>1.0</td>\n",
       "      <td>0.0</td>\n",
       "      <td>0.0</td>\n",
       "      <td>0.0</td>\n",
       "      <td>0.091248</td>\n",
       "      <td>1.0</td>\n",
       "      <td>6.0</td>\n",
       "      <td>1.0</td>\n",
       "      <td>129</td>\n",
       "    </tr>\n",
       "    <tr>\n",
       "      <td>2</td>\n",
       "      <td>0</td>\n",
       "      <td>0</td>\n",
       "      <td>0</td>\n",
       "      <td>0.008171</td>\n",
       "      <td>2017-01-01 02:00:00</td>\n",
       "      <td>0.583008</td>\n",
       "      <td>0.655762</td>\n",
       "      <td>0.774902</td>\n",
       "      <td>0.128052</td>\n",
       "      <td>0.0</td>\n",
       "      <td>0.0</td>\n",
       "      <td>1.0</td>\n",
       "      <td>0.0</td>\n",
       "      <td>0.061951</td>\n",
       "      <td>1.0</td>\n",
       "      <td>6.0</td>\n",
       "      <td>2.0</td>\n",
       "      <td>258</td>\n",
       "    </tr>\n",
       "    <tr>\n",
       "      <td>3</td>\n",
       "      <td>0</td>\n",
       "      <td>0</td>\n",
       "      <td>0</td>\n",
       "      <td>0.008171</td>\n",
       "      <td>2017-01-01 03:00:00</td>\n",
       "      <td>0.597168</td>\n",
       "      <td>0.659180</td>\n",
       "      <td>0.782715</td>\n",
       "      <td>0.128052</td>\n",
       "      <td>0.0</td>\n",
       "      <td>0.0</td>\n",
       "      <td>1.0</td>\n",
       "      <td>0.0</td>\n",
       "      <td>0.072266</td>\n",
       "      <td>1.0</td>\n",
       "      <td>6.0</td>\n",
       "      <td>3.0</td>\n",
       "      <td>387</td>\n",
       "    </tr>\n",
       "    <tr>\n",
       "      <td>4</td>\n",
       "      <td>0</td>\n",
       "      <td>0</td>\n",
       "      <td>0</td>\n",
       "      <td>0.008171</td>\n",
       "      <td>2017-01-01 04:00:00</td>\n",
       "      <td>0.590820</td>\n",
       "      <td>0.660645</td>\n",
       "      <td>0.782715</td>\n",
       "      <td>0.107422</td>\n",
       "      <td>1.0</td>\n",
       "      <td>0.0</td>\n",
       "      <td>0.0</td>\n",
       "      <td>0.0</td>\n",
       "      <td>0.063660</td>\n",
       "      <td>1.0</td>\n",
       "      <td>6.0</td>\n",
       "      <td>4.0</td>\n",
       "      <td>516</td>\n",
       "    </tr>\n",
       "    <tr>\n",
       "      <td>...</td>\n",
       "      <td>...</td>\n",
       "      <td>...</td>\n",
       "      <td>...</td>\n",
       "      <td>...</td>\n",
       "      <td>...</td>\n",
       "      <td>...</td>\n",
       "      <td>...</td>\n",
       "      <td>...</td>\n",
       "      <td>...</td>\n",
       "      <td>...</td>\n",
       "      <td>...</td>\n",
       "      <td>...</td>\n",
       "      <td>...</td>\n",
       "      <td>...</td>\n",
       "      <td>...</td>\n",
       "      <td>...</td>\n",
       "      <td>...</td>\n",
       "      <td>...</td>\n",
       "    </tr>\n",
       "    <tr>\n",
       "      <td>24649511</td>\n",
       "      <td>15</td>\n",
       "      <td>1448</td>\n",
       "      <td>6</td>\n",
       "      <td>0.105164</td>\n",
       "      <td>2018-12-31 19:00:00</td>\n",
       "      <td>0.416992</td>\n",
       "      <td>0.611816</td>\n",
       "      <td>0.594727</td>\n",
       "      <td>0.318115</td>\n",
       "      <td>0.0</td>\n",
       "      <td>0.0</td>\n",
       "      <td>1.0</td>\n",
       "      <td>0.0</td>\n",
       "      <td>0.032715</td>\n",
       "      <td>0.0</td>\n",
       "      <td>0.0</td>\n",
       "      <td>19.0</td>\n",
       "      <td>41497570</td>\n",
       "    </tr>\n",
       "    <tr>\n",
       "      <td>24649512</td>\n",
       "      <td>15</td>\n",
       "      <td>1448</td>\n",
       "      <td>6</td>\n",
       "      <td>0.105164</td>\n",
       "      <td>2018-12-31 20:00:00</td>\n",
       "      <td>0.410645</td>\n",
       "      <td>0.605469</td>\n",
       "      <td>0.584961</td>\n",
       "      <td>0.210693</td>\n",
       "      <td>0.0</td>\n",
       "      <td>0.0</td>\n",
       "      <td>1.0</td>\n",
       "      <td>0.0</td>\n",
       "      <td>0.034424</td>\n",
       "      <td>0.0</td>\n",
       "      <td>0.0</td>\n",
       "      <td>20.0</td>\n",
       "      <td>41497820</td>\n",
       "    </tr>\n",
       "    <tr>\n",
       "      <td>24649513</td>\n",
       "      <td>15</td>\n",
       "      <td>1448</td>\n",
       "      <td>6</td>\n",
       "      <td>0.105164</td>\n",
       "      <td>2018-12-31 21:00:00</td>\n",
       "      <td>0.410645</td>\n",
       "      <td>0.598145</td>\n",
       "      <td>0.594727</td>\n",
       "      <td>0.256104</td>\n",
       "      <td>0.0</td>\n",
       "      <td>0.0</td>\n",
       "      <td>1.0</td>\n",
       "      <td>0.0</td>\n",
       "      <td>0.024094</td>\n",
       "      <td>0.0</td>\n",
       "      <td>0.0</td>\n",
       "      <td>21.0</td>\n",
       "      <td>41498070</td>\n",
       "    </tr>\n",
       "    <tr>\n",
       "      <td>24649514</td>\n",
       "      <td>15</td>\n",
       "      <td>1448</td>\n",
       "      <td>6</td>\n",
       "      <td>0.105164</td>\n",
       "      <td>2018-12-31 22:00:00</td>\n",
       "      <td>0.410645</td>\n",
       "      <td>0.584961</td>\n",
       "      <td>0.603027</td>\n",
       "      <td>0.210693</td>\n",
       "      <td>0.0</td>\n",
       "      <td>0.0</td>\n",
       "      <td>1.0</td>\n",
       "      <td>0.0</td>\n",
       "      <td>0.015488</td>\n",
       "      <td>0.0</td>\n",
       "      <td>0.0</td>\n",
       "      <td>22.0</td>\n",
       "      <td>41498320</td>\n",
       "    </tr>\n",
       "    <tr>\n",
       "      <td>24649515</td>\n",
       "      <td>15</td>\n",
       "      <td>1448</td>\n",
       "      <td>6</td>\n",
       "      <td>0.105164</td>\n",
       "      <td>2018-12-31 23:00:00</td>\n",
       "      <td>0.416992</td>\n",
       "      <td>0.567871</td>\n",
       "      <td>0.603027</td>\n",
       "      <td>0.210693</td>\n",
       "      <td>0.0</td>\n",
       "      <td>0.0</td>\n",
       "      <td>1.0</td>\n",
       "      <td>0.0</td>\n",
       "      <td>0.024094</td>\n",
       "      <td>0.0</td>\n",
       "      <td>0.0</td>\n",
       "      <td>23.0</td>\n",
       "      <td>41498570</td>\n",
       "    </tr>\n",
       "  </tbody>\n",
       "</table>\n",
       "<p>24649516 rows × 18 columns</p>\n",
       "</div>"
      ],
      "text/plain": [
       "          site_id  building_id  primary_use  square_feet            timestamp  \\\n",
       "0               0            0            0     0.008171  2017-01-01 00:00:00   \n",
       "1               0            0            0     0.008171  2017-01-01 01:00:00   \n",
       "2               0            0            0     0.008171  2017-01-01 02:00:00   \n",
       "3               0            0            0     0.008171  2017-01-01 03:00:00   \n",
       "4               0            0            0     0.008171  2017-01-01 04:00:00   \n",
       "...           ...          ...          ...          ...                  ...   \n",
       "24649511       15         1448            6     0.105164  2018-12-31 19:00:00   \n",
       "24649512       15         1448            6     0.105164  2018-12-31 20:00:00   \n",
       "24649513       15         1448            6     0.105164  2018-12-31 21:00:00   \n",
       "24649514       15         1448            6     0.105164  2018-12-31 22:00:00   \n",
       "24649515       15         1448            6     0.105164  2018-12-31 23:00:00   \n",
       "\n",
       "           airtemp    sealev   dewtemp    windsp  North  West  South  nowind  \\\n",
       "0         0.604980  0.649414  0.756836  0.148804    1.0   0.0    0.0     0.0   \n",
       "1         0.604980  0.656738  0.774902  0.128052    1.0   0.0    0.0     0.0   \n",
       "2         0.583008  0.655762  0.774902  0.128052    0.0   0.0    1.0     0.0   \n",
       "3         0.597168  0.659180  0.782715  0.128052    0.0   0.0    1.0     0.0   \n",
       "4         0.590820  0.660645  0.782715  0.107422    1.0   0.0    0.0     0.0   \n",
       "...            ...       ...       ...       ...    ...   ...    ...     ...   \n",
       "24649511  0.416992  0.611816  0.594727  0.318115    0.0   0.0    1.0     0.0   \n",
       "24649512  0.410645  0.605469  0.584961  0.210693    0.0   0.0    1.0     0.0   \n",
       "24649513  0.410645  0.598145  0.594727  0.256104    0.0   0.0    1.0     0.0   \n",
       "24649514  0.410645  0.584961  0.603027  0.210693    0.0   0.0    1.0     0.0   \n",
       "24649515  0.416992  0.567871  0.603027  0.210693    0.0   0.0    1.0     0.0   \n",
       "\n",
       "            dewair  month  weekday  hour    row_id  \n",
       "0         0.110168    1.0      6.0   0.0         0  \n",
       "1         0.091248    1.0      6.0   1.0       129  \n",
       "2         0.061951    1.0      6.0   2.0       258  \n",
       "3         0.072266    1.0      6.0   3.0       387  \n",
       "4         0.063660    1.0      6.0   4.0       516  \n",
       "...            ...    ...      ...   ...       ...  \n",
       "24649511  0.032715    0.0      0.0  19.0  41497570  \n",
       "24649512  0.034424    0.0      0.0  20.0  41497820  \n",
       "24649513  0.024094    0.0      0.0  21.0  41498070  \n",
       "24649514  0.015488    0.0      0.0  22.0  41498320  \n",
       "24649515  0.024094    0.0      0.0  23.0  41498570  \n",
       "\n",
       "[24649516 rows x 18 columns]"
      ]
     },
     "execution_count": 13,
     "metadata": {},
     "output_type": "execute_result"
    }
   ],
   "source": [
    "submit_set0"
   ]
  },
  {
   "cell_type": "code",
   "execution_count": 9,
   "metadata": {},
   "outputs": [],
   "source": [
    "# input for submit_set0\n",
    "X_sub0 = [submit_set0.building_id.values, submit_set0.primary_use.values,\n",
    "          submit_set0.month.values, submit_set0.weekday.values, submit_set0.hour.values,\n",
    "          submit_set0.drop(['site_id','building_id','timestamp','dewair','row_id'], axis=1).values]"
   ]
  },
  {
   "cell_type": "code",
   "execution_count": 10,
   "metadata": {},
   "outputs": [],
   "source": [
    "# load model\n",
    "model_meter0 = tf.keras.models.load_model('model_meter0.h5')"
   ]
  },
  {
   "cell_type": "code",
   "execution_count": 11,
   "metadata": {},
   "outputs": [],
   "source": [
    "# predict submit_set0\n",
    "submit_y0 = model_meter0.predict(X_sub0)"
   ]
  },
  {
   "cell_type": "code",
   "execution_count": 13,
   "metadata": {},
   "outputs": [],
   "source": [
    "submit_y0 = pd.Series(submit_y0.reshape(-1,))\n",
    "submit_y0.name = 'meter_reading'"
   ]
  },
  {
   "cell_type": "code",
   "execution_count": 14,
   "metadata": {},
   "outputs": [],
   "source": [
    "submit_y0 = pd.concat([submit_set0.row_id,submit_y0], axis=1)\n",
    "submit_y0.columns = ['row_id','meter_reading']"
   ]
  },
  {
   "cell_type": "code",
   "execution_count": 16,
   "metadata": {},
   "outputs": [],
   "source": [
    "# inverse_transform for submit_y0\n",
    "submit_y0.meter_reading = np.exp(rob_0.inverse_transform(mm_0.inverse_transform(submit_y0.meter_reading.values.reshape(-1,1))))"
   ]
  },
  {
   "cell_type": "code",
   "execution_count": 17,
   "metadata": {},
   "outputs": [
    {
     "data": {
      "text/html": [
       "<div>\n",
       "<style scoped>\n",
       "    .dataframe tbody tr th:only-of-type {\n",
       "        vertical-align: middle;\n",
       "    }\n",
       "\n",
       "    .dataframe tbody tr th {\n",
       "        vertical-align: top;\n",
       "    }\n",
       "\n",
       "    .dataframe thead th {\n",
       "        text-align: right;\n",
       "    }\n",
       "</style>\n",
       "<table border=\"1\" class=\"dataframe\">\n",
       "  <thead>\n",
       "    <tr style=\"text-align: right;\">\n",
       "      <th></th>\n",
       "      <th>row_id</th>\n",
       "      <th>meter_reading</th>\n",
       "    </tr>\n",
       "  </thead>\n",
       "  <tbody>\n",
       "    <tr>\n",
       "      <td>0</td>\n",
       "      <td>0</td>\n",
       "      <td>48.709367</td>\n",
       "    </tr>\n",
       "    <tr>\n",
       "      <td>1</td>\n",
       "      <td>129</td>\n",
       "      <td>48.007833</td>\n",
       "    </tr>\n",
       "    <tr>\n",
       "      <td>2</td>\n",
       "      <td>258</td>\n",
       "      <td>48.069870</td>\n",
       "    </tr>\n",
       "    <tr>\n",
       "      <td>3</td>\n",
       "      <td>387</td>\n",
       "      <td>47.012276</td>\n",
       "    </tr>\n",
       "    <tr>\n",
       "      <td>4</td>\n",
       "      <td>516</td>\n",
       "      <td>45.552076</td>\n",
       "    </tr>\n",
       "    <tr>\n",
       "      <td>...</td>\n",
       "      <td>...</td>\n",
       "      <td>...</td>\n",
       "    </tr>\n",
       "    <tr>\n",
       "      <td>24649511</td>\n",
       "      <td>41497570</td>\n",
       "      <td>3.714626</td>\n",
       "    </tr>\n",
       "    <tr>\n",
       "      <td>24649512</td>\n",
       "      <td>41497820</td>\n",
       "      <td>3.387449</td>\n",
       "    </tr>\n",
       "    <tr>\n",
       "      <td>24649513</td>\n",
       "      <td>41498070</td>\n",
       "      <td>3.404859</td>\n",
       "    </tr>\n",
       "    <tr>\n",
       "      <td>24649514</td>\n",
       "      <td>41498320</td>\n",
       "      <td>3.411774</td>\n",
       "    </tr>\n",
       "    <tr>\n",
       "      <td>24649515</td>\n",
       "      <td>41498570</td>\n",
       "      <td>3.419893</td>\n",
       "    </tr>\n",
       "  </tbody>\n",
       "</table>\n",
       "<p>24649516 rows × 2 columns</p>\n",
       "</div>"
      ],
      "text/plain": [
       "            row_id  meter_reading\n",
       "0                0      48.709367\n",
       "1              129      48.007833\n",
       "2              258      48.069870\n",
       "3              387      47.012276\n",
       "4              516      45.552076\n",
       "...            ...            ...\n",
       "24649511  41497570       3.714626\n",
       "24649512  41497820       3.387449\n",
       "24649513  41498070       3.404859\n",
       "24649514  41498320       3.411774\n",
       "24649515  41498570       3.419893\n",
       "\n",
       "[24649516 rows x 2 columns]"
      ]
     },
     "execution_count": 17,
     "metadata": {},
     "output_type": "execute_result"
    }
   ],
   "source": [
    "submit_y0"
   ]
  },
  {
   "cell_type": "code",
   "execution_count": 18,
   "metadata": {},
   "outputs": [],
   "source": [
    "# Multiply by 0.2931 to get to model inputs into kWh like the other sites, \n",
    "# and 3.4118 to get back to kBTU for scoring\n",
    "converted_meter0 = submit_y0[submit_set0.site_id ==0].meter_reading.mul(3.4118)"
   ]
  },
  {
   "cell_type": "code",
   "execution_count": 19,
   "metadata": {},
   "outputs": [
    {
     "data": {
      "text/plain": [
       "0          166.186617\n",
       "1          163.793125\n",
       "2          164.004783\n",
       "3          160.396482\n",
       "4          155.414574\n",
       "              ...    \n",
       "1839595    357.930359\n",
       "1839596    351.812917\n",
       "1839597    345.946898\n",
       "1839598    337.010297\n",
       "1839599    316.048923\n",
       "Name: meter_reading, Length: 1839600, dtype: float64"
      ]
     },
     "execution_count": 19,
     "metadata": {},
     "output_type": "execute_result"
    }
   ],
   "source": [
    "converted_meter0"
   ]
  },
  {
   "cell_type": "code",
   "execution_count": 20,
   "metadata": {},
   "outputs": [
    {
     "name": "stderr",
     "output_type": "stream",
     "text": [
      "C:\\Users\\raymond.guo\\AppData\\Local\\Continuum\\anaconda3\\lib\\site-packages\\ipykernel_launcher.py:2: SettingWithCopyWarning: \n",
      "A value is trying to be set on a copy of a slice from a DataFrame\n",
      "\n",
      "See the caveats in the documentation: http://pandas.pydata.org/pandas-docs/stable/user_guide/indexing.html#returning-a-view-versus-a-copy\n",
      "  \n"
     ]
    }
   ],
   "source": [
    "# submit_y0.update(converted_meter0)\n",
    "submit_y0.meter_reading[submit_set0.site_id ==0] = converted_meter0"
   ]
  },
  {
   "cell_type": "code",
   "execution_count": 21,
   "metadata": {
    "scrolled": true
   },
   "outputs": [
    {
     "data": {
      "text/html": [
       "<div>\n",
       "<style scoped>\n",
       "    .dataframe tbody tr th:only-of-type {\n",
       "        vertical-align: middle;\n",
       "    }\n",
       "\n",
       "    .dataframe tbody tr th {\n",
       "        vertical-align: top;\n",
       "    }\n",
       "\n",
       "    .dataframe thead th {\n",
       "        text-align: right;\n",
       "    }\n",
       "</style>\n",
       "<table border=\"1\" class=\"dataframe\">\n",
       "  <thead>\n",
       "    <tr style=\"text-align: right;\">\n",
       "      <th></th>\n",
       "      <th>row_id</th>\n",
       "      <th>meter_reading</th>\n",
       "    </tr>\n",
       "  </thead>\n",
       "  <tbody>\n",
       "    <tr>\n",
       "      <td>0</td>\n",
       "      <td>0</td>\n",
       "      <td>166.186617</td>\n",
       "    </tr>\n",
       "    <tr>\n",
       "      <td>1</td>\n",
       "      <td>129</td>\n",
       "      <td>163.793125</td>\n",
       "    </tr>\n",
       "    <tr>\n",
       "      <td>2</td>\n",
       "      <td>258</td>\n",
       "      <td>164.004783</td>\n",
       "    </tr>\n",
       "    <tr>\n",
       "      <td>3</td>\n",
       "      <td>387</td>\n",
       "      <td>160.396482</td>\n",
       "    </tr>\n",
       "    <tr>\n",
       "      <td>4</td>\n",
       "      <td>516</td>\n",
       "      <td>155.414574</td>\n",
       "    </tr>\n",
       "    <tr>\n",
       "      <td>...</td>\n",
       "      <td>...</td>\n",
       "      <td>...</td>\n",
       "    </tr>\n",
       "    <tr>\n",
       "      <td>24649511</td>\n",
       "      <td>41497570</td>\n",
       "      <td>3.714626</td>\n",
       "    </tr>\n",
       "    <tr>\n",
       "      <td>24649512</td>\n",
       "      <td>41497820</td>\n",
       "      <td>3.387449</td>\n",
       "    </tr>\n",
       "    <tr>\n",
       "      <td>24649513</td>\n",
       "      <td>41498070</td>\n",
       "      <td>3.404859</td>\n",
       "    </tr>\n",
       "    <tr>\n",
       "      <td>24649514</td>\n",
       "      <td>41498320</td>\n",
       "      <td>3.411774</td>\n",
       "    </tr>\n",
       "    <tr>\n",
       "      <td>24649515</td>\n",
       "      <td>41498570</td>\n",
       "      <td>3.419893</td>\n",
       "    </tr>\n",
       "  </tbody>\n",
       "</table>\n",
       "<p>24649516 rows × 2 columns</p>\n",
       "</div>"
      ],
      "text/plain": [
       "            row_id  meter_reading\n",
       "0                0     166.186617\n",
       "1              129     163.793125\n",
       "2              258     164.004783\n",
       "3              387     160.396482\n",
       "4              516     155.414574\n",
       "...            ...            ...\n",
       "24649511  41497570       3.714626\n",
       "24649512  41497820       3.387449\n",
       "24649513  41498070       3.404859\n",
       "24649514  41498320       3.411774\n",
       "24649515  41498570       3.419893\n",
       "\n",
       "[24649516 rows x 2 columns]"
      ]
     },
     "execution_count": 21,
     "metadata": {},
     "output_type": "execute_result"
    }
   ],
   "source": [
    "submit_y0"
   ]
  },
  {
   "cell_type": "code",
   "execution_count": 22,
   "metadata": {},
   "outputs": [],
   "source": [
    "submit_y0.to_csv('C:/data/Kaggle_ASHRAE_energy/submit_y0.csv', index=False)"
   ]
  },
  {
   "cell_type": "code",
   "execution_count": 23,
   "metadata": {},
   "outputs": [
    {
     "ename": "NameError",
     "evalue": "name 'model_meter0' is not defined",
     "output_type": "error",
     "traceback": [
      "\u001b[1;31m---------------------------------------------------------------------------\u001b[0m",
      "\u001b[1;31mNameError\u001b[0m                                 Traceback (most recent call last)",
      "\u001b[1;32m<ipython-input-23-edb85cc2e037>\u001b[0m in \u001b[0;36m<module>\u001b[1;34m\u001b[0m\n\u001b[0;32m      1\u001b[0m \u001b[1;32mdel\u001b[0m \u001b[0msubmit_set0\u001b[0m\u001b[1;33m\u001b[0m\u001b[1;33m\u001b[0m\u001b[0m\n\u001b[1;32m----> 2\u001b[1;33m \u001b[1;32mdel\u001b[0m \u001b[0mmodel_meter0\u001b[0m\u001b[1;33m\u001b[0m\u001b[1;33m\u001b[0m\u001b[0m\n\u001b[0m\u001b[0;32m      3\u001b[0m \u001b[1;32mdel\u001b[0m \u001b[0mconverted_meter0\u001b[0m\u001b[1;33m\u001b[0m\u001b[1;33m\u001b[0m\u001b[0m\n\u001b[0;32m      4\u001b[0m \u001b[0mgc\u001b[0m\u001b[1;33m.\u001b[0m\u001b[0mcollect\u001b[0m\u001b[1;33m(\u001b[0m\u001b[1;33m)\u001b[0m\u001b[1;33m\u001b[0m\u001b[1;33m\u001b[0m\u001b[0m\n",
      "\u001b[1;31mNameError\u001b[0m: name 'model_meter0' is not defined"
     ]
    }
   ],
   "source": [
    "del submit_set0\n",
    "del model_meter0\n",
    "del converted_meter0\n",
    "gc.collect()"
   ]
  },
  {
   "cell_type": "code",
   "execution_count": 15,
   "metadata": {},
   "outputs": [],
   "source": [
    "submit_y0 = pd.read_csv('C:/data/Kaggle_ASHRAE_energy/submit_y0.csv')"
   ]
  },
  {
   "cell_type": "code",
   "execution_count": 24,
   "metadata": {},
   "outputs": [
    {
     "name": "stdout",
     "output_type": "stream",
     "text": [
      "Mem. usage decreased from 376.12 Mb to 188.06 Mb (50.0% reduction)\n"
     ]
    }
   ],
   "source": [
    "submit_y0 = reduce_mem_usage(submit_y0)"
   ]
  },
  {
   "cell_type": "markdown",
   "metadata": {},
   "source": [
    "##### predict submit set with meter 1"
   ]
  },
  {
   "cell_type": "code",
   "execution_count": 25,
   "metadata": {},
   "outputs": [
    {
     "name": "stdout",
     "output_type": "stream",
     "text": [
      "Mem. usage decreased from 1192.21 Mb to 405.68 Mb (66.0% reduction)\n"
     ]
    }
   ],
   "source": [
    "submit_set1 = pd.read_csv('C:/data/Kaggle_ASHRAE_energy/test_set1.csv')\n",
    "submit_set1 = reduce_mem_usage(submit_set1)"
   ]
  },
  {
   "cell_type": "code",
   "execution_count": 26,
   "metadata": {},
   "outputs": [
    {
     "name": "stderr",
     "output_type": "stream",
     "text": [
      "C:\\Users\\raymond.guo\\AppData\\Local\\Continuum\\anaconda3\\lib\\site-packages\\ipykernel_launcher.py:2: SettingWithCopyWarning: \n",
      "A value is trying to be set on a copy of a slice from a DataFrame\n",
      "\n",
      "See the caveats in the documentation: http://pandas.pydata.org/pandas-docs/stable/user_guide/indexing.html#returning-a-view-versus-a-copy\n",
      "  \n"
     ]
    }
   ],
   "source": [
    "submit_set1[\"primary_use\"] = le.transform(submit_set1[\"primary_use\"])\n",
    "submit_set1.month[submit_set1.month==12] = 0\n",
    "X_sub1 = [submit_set1.building_id.values, submit_set1.primary_use.values,\n",
    "          submit_set1.month.values, submit_set1.weekday.values, submit_set1.hour.values,\n",
    "          submit_set1.drop(['site_id','building_id','timestamp','dewair','row_id'], axis=1).values]"
   ]
  },
  {
   "cell_type": "code",
   "execution_count": 27,
   "metadata": {},
   "outputs": [],
   "source": [
    "model_meter1 = tf.keras.models.load_model('model_meter1.h5')\n",
    "submit_y1 = model_meter1.predict(X_sub1)"
   ]
  },
  {
   "cell_type": "code",
   "execution_count": 28,
   "metadata": {},
   "outputs": [],
   "source": [
    "submit_y1 = pd.Series(submit_y1.reshape(-1,))\n",
    "submit_y1 = pd.concat([submit_set1.row_id,submit_y1], axis=1)\n",
    "submit_y1.columns = ['row_id','meter_reading']\n",
    "submit_y1.meter_reading = np.exp(rob_1.inverse_transform(mm_1.inverse_transform(submit_y1.meter_reading.values.reshape(-1,1))))"
   ]
  },
  {
   "cell_type": "code",
   "execution_count": 29,
   "metadata": {},
   "outputs": [
    {
     "data": {
      "text/html": [
       "<div>\n",
       "<style scoped>\n",
       "    .dataframe tbody tr th:only-of-type {\n",
       "        vertical-align: middle;\n",
       "    }\n",
       "\n",
       "    .dataframe tbody tr th {\n",
       "        vertical-align: top;\n",
       "    }\n",
       "\n",
       "    .dataframe thead th {\n",
       "        text-align: right;\n",
       "    }\n",
       "</style>\n",
       "<table border=\"1\" class=\"dataframe\">\n",
       "  <thead>\n",
       "    <tr style=\"text-align: right;\">\n",
       "      <th></th>\n",
       "      <th>row_id</th>\n",
       "      <th>meter_reading</th>\n",
       "    </tr>\n",
       "  </thead>\n",
       "  <tbody>\n",
       "    <tr>\n",
       "      <td>0</td>\n",
       "      <td>8</td>\n",
       "      <td>1325.655029</td>\n",
       "    </tr>\n",
       "    <tr>\n",
       "      <td>1</td>\n",
       "      <td>137</td>\n",
       "      <td>1397.058960</td>\n",
       "    </tr>\n",
       "    <tr>\n",
       "      <td>2</td>\n",
       "      <td>266</td>\n",
       "      <td>1041.446777</td>\n",
       "    </tr>\n",
       "    <tr>\n",
       "      <td>3</td>\n",
       "      <td>395</td>\n",
       "      <td>1026.877075</td>\n",
       "    </tr>\n",
       "    <tr>\n",
       "      <td>4</td>\n",
       "      <td>524</td>\n",
       "      <td>1012.739136</td>\n",
       "    </tr>\n",
       "    <tr>\n",
       "      <td>...</td>\n",
       "      <td>...</td>\n",
       "      <td>...</td>\n",
       "    </tr>\n",
       "    <tr>\n",
       "      <td>8681366</td>\n",
       "      <td>41497512</td>\n",
       "      <td>3.506126</td>\n",
       "    </tr>\n",
       "    <tr>\n",
       "      <td>8681367</td>\n",
       "      <td>41497762</td>\n",
       "      <td>3.394865</td>\n",
       "    </tr>\n",
       "    <tr>\n",
       "      <td>8681368</td>\n",
       "      <td>41498012</td>\n",
       "      <td>3.226046</td>\n",
       "    </tr>\n",
       "    <tr>\n",
       "      <td>8681369</td>\n",
       "      <td>41498262</td>\n",
       "      <td>3.157632</td>\n",
       "    </tr>\n",
       "    <tr>\n",
       "      <td>8681370</td>\n",
       "      <td>41498512</td>\n",
       "      <td>2.926548</td>\n",
       "    </tr>\n",
       "  </tbody>\n",
       "</table>\n",
       "<p>8681371 rows × 2 columns</p>\n",
       "</div>"
      ],
      "text/plain": [
       "           row_id  meter_reading\n",
       "0               8    1325.655029\n",
       "1             137    1397.058960\n",
       "2             266    1041.446777\n",
       "3             395    1026.877075\n",
       "4             524    1012.739136\n",
       "...           ...            ...\n",
       "8681366  41497512       3.506126\n",
       "8681367  41497762       3.394865\n",
       "8681368  41498012       3.226046\n",
       "8681369  41498262       3.157632\n",
       "8681370  41498512       2.926548\n",
       "\n",
       "[8681371 rows x 2 columns]"
      ]
     },
     "execution_count": 29,
     "metadata": {},
     "output_type": "execute_result"
    }
   ],
   "source": [
    "submit_y1"
   ]
  },
  {
   "cell_type": "code",
   "execution_count": 30,
   "metadata": {},
   "outputs": [],
   "source": [
    "submit_y1.to_csv('C:/data/Kaggle_ASHRAE_energy/submit_y1.csv', index=False)"
   ]
  },
  {
   "cell_type": "code",
   "execution_count": 31,
   "metadata": {},
   "outputs": [
    {
     "data": {
      "text/plain": [
       "93304"
      ]
     },
     "execution_count": 31,
     "metadata": {},
     "output_type": "execute_result"
    }
   ],
   "source": [
    "del submit_set1\n",
    "del model_meter1\n",
    "gc.collect()"
   ]
  },
  {
   "cell_type": "code",
   "execution_count": 32,
   "metadata": {},
   "outputs": [
    {
     "name": "stdout",
     "output_type": "stream",
     "text": [
      "Mem. usage decreased from 66.23 Mb to 66.23 Mb (0.0% reduction)\n"
     ]
    }
   ],
   "source": [
    "submit_y1 = reduce_mem_usage(submit_y1)"
   ]
  },
  {
   "cell_type": "markdown",
   "metadata": {},
   "source": [
    "##### predict submit set with meter 2"
   ]
  },
  {
   "cell_type": "code",
   "execution_count": 33,
   "metadata": {},
   "outputs": [
    {
     "name": "stdout",
     "output_type": "stream",
     "text": [
      "Mem. usage decreased from 774.40 Mb to 263.51 Mb (66.0% reduction)\n"
     ]
    }
   ],
   "source": [
    "submit_set2 = pd.read_csv('C:/data/Kaggle_ASHRAE_energy/test_set2.csv')\n",
    "submit_set2 = reduce_mem_usage(submit_set2)"
   ]
  },
  {
   "cell_type": "code",
   "execution_count": 34,
   "metadata": {},
   "outputs": [
    {
     "name": "stderr",
     "output_type": "stream",
     "text": [
      "C:\\Users\\raymond.guo\\AppData\\Local\\Continuum\\anaconda3\\lib\\site-packages\\ipykernel_launcher.py:2: SettingWithCopyWarning: \n",
      "A value is trying to be set on a copy of a slice from a DataFrame\n",
      "\n",
      "See the caveats in the documentation: http://pandas.pydata.org/pandas-docs/stable/user_guide/indexing.html#returning-a-view-versus-a-copy\n",
      "  \n"
     ]
    }
   ],
   "source": [
    "submit_set2[\"primary_use\"] = le.transform(submit_set2[\"primary_use\"])\n",
    "submit_set2.month[submit_set2.month==12] = 0\n",
    "X_sub2 = [submit_set2.building_id.values, submit_set2.primary_use.values,\n",
    "          submit_set2.month.values, submit_set2.weekday.values, submit_set2.hour.values,\n",
    "          submit_set2.drop(['site_id','building_id','timestamp','dewair','row_id'], axis=1).values]\n"
   ]
  },
  {
   "cell_type": "code",
   "execution_count": 35,
   "metadata": {},
   "outputs": [],
   "source": [
    "model_meter2 = tf.keras.models.load_model('model_meter2.h5')\n",
    "submit_y2 = model_meter2.predict(X_sub2)"
   ]
  },
  {
   "cell_type": "code",
   "execution_count": 36,
   "metadata": {},
   "outputs": [
    {
     "name": "stderr",
     "output_type": "stream",
     "text": [
      "C:\\Users\\raymond.guo\\AppData\\Local\\Continuum\\anaconda3\\lib\\site-packages\\ipykernel_launcher.py:4: RuntimeWarning: overflow encountered in exp\n",
      "  after removing the cwd from sys.path.\n"
     ]
    }
   ],
   "source": [
    "submit_y2 = pd.Series(submit_y2.reshape(-1,))\n",
    "submit_y2 = pd.concat([submit_set2.row_id,submit_y2], axis=1)\n",
    "submit_y2.columns = ['row_id','meter_reading']\n",
    "submit_y2.meter_reading = np.exp(rob_2.inverse_transform(mm_2.inverse_transform(submit_y2.meter_reading.values.reshape(-1,1))))"
   ]
  },
  {
   "cell_type": "code",
   "execution_count": 37,
   "metadata": {},
   "outputs": [
    {
     "data": {
      "text/html": [
       "<div>\n",
       "<style scoped>\n",
       "    .dataframe tbody tr th:only-of-type {\n",
       "        vertical-align: middle;\n",
       "    }\n",
       "\n",
       "    .dataframe tbody tr th {\n",
       "        vertical-align: top;\n",
       "    }\n",
       "\n",
       "    .dataframe thead th {\n",
       "        text-align: right;\n",
       "    }\n",
       "</style>\n",
       "<table border=\"1\" class=\"dataframe\">\n",
       "  <thead>\n",
       "    <tr style=\"text-align: right;\">\n",
       "      <th></th>\n",
       "      <th>row_id</th>\n",
       "      <th>meter_reading</th>\n",
       "    </tr>\n",
       "  </thead>\n",
       "  <tbody>\n",
       "    <tr>\n",
       "      <td>0</td>\n",
       "      <td>16340505</td>\n",
       "      <td>6.541770</td>\n",
       "    </tr>\n",
       "    <tr>\n",
       "      <td>1</td>\n",
       "      <td>16340663</td>\n",
       "      <td>5.901452</td>\n",
       "    </tr>\n",
       "    <tr>\n",
       "      <td>2</td>\n",
       "      <td>16340665</td>\n",
       "      <td>8.150162</td>\n",
       "    </tr>\n",
       "    <tr>\n",
       "      <td>3</td>\n",
       "      <td>16340745</td>\n",
       "      <td>8.117547</td>\n",
       "    </tr>\n",
       "    <tr>\n",
       "      <td>4</td>\n",
       "      <td>16340903</td>\n",
       "      <td>13.387063</td>\n",
       "    </tr>\n",
       "    <tr>\n",
       "      <td>...</td>\n",
       "      <td>...</td>\n",
       "      <td>...</td>\n",
       "    </tr>\n",
       "    <tr>\n",
       "      <td>5639001</td>\n",
       "      <td>41497555</td>\n",
       "      <td>68.885368</td>\n",
       "    </tr>\n",
       "    <tr>\n",
       "      <td>5639002</td>\n",
       "      <td>41497805</td>\n",
       "      <td>69.064781</td>\n",
       "    </tr>\n",
       "    <tr>\n",
       "      <td>5639003</td>\n",
       "      <td>41498055</td>\n",
       "      <td>53.098816</td>\n",
       "    </tr>\n",
       "    <tr>\n",
       "      <td>5639004</td>\n",
       "      <td>41498305</td>\n",
       "      <td>49.387146</td>\n",
       "    </tr>\n",
       "    <tr>\n",
       "      <td>5639005</td>\n",
       "      <td>41498555</td>\n",
       "      <td>44.395569</td>\n",
       "    </tr>\n",
       "  </tbody>\n",
       "</table>\n",
       "<p>5639006 rows × 2 columns</p>\n",
       "</div>"
      ],
      "text/plain": [
       "           row_id  meter_reading\n",
       "0        16340505       6.541770\n",
       "1        16340663       5.901452\n",
       "2        16340665       8.150162\n",
       "3        16340745       8.117547\n",
       "4        16340903      13.387063\n",
       "...           ...            ...\n",
       "5639001  41497555      68.885368\n",
       "5639002  41497805      69.064781\n",
       "5639003  41498055      53.098816\n",
       "5639004  41498305      49.387146\n",
       "5639005  41498555      44.395569\n",
       "\n",
       "[5639006 rows x 2 columns]"
      ]
     },
     "execution_count": 37,
     "metadata": {},
     "output_type": "execute_result"
    }
   ],
   "source": [
    "submit_y2"
   ]
  },
  {
   "cell_type": "code",
   "execution_count": 38,
   "metadata": {},
   "outputs": [],
   "source": [
    "submit_y2.to_csv('C:/data/Kaggle_ASHRAE_energy/submit_y2.csv', index=False)"
   ]
  },
  {
   "cell_type": "code",
   "execution_count": 39,
   "metadata": {},
   "outputs": [
    {
     "data": {
      "text/plain": [
       "93304"
      ]
     },
     "execution_count": 39,
     "metadata": {},
     "output_type": "execute_result"
    }
   ],
   "source": [
    "del submit_set2\n",
    "del model_meter2\n",
    "gc.collect()"
   ]
  },
  {
   "cell_type": "code",
   "execution_count": 40,
   "metadata": {},
   "outputs": [
    {
     "name": "stdout",
     "output_type": "stream",
     "text": [
      "Mem. usage decreased from 43.02 Mb to 64.53 Mb (-50.0% reduction)\n"
     ]
    }
   ],
   "source": [
    "submit_y2 = reduce_mem_usage(submit_y2)"
   ]
  },
  {
   "cell_type": "markdown",
   "metadata": {},
   "source": [
    "##### predict submit set with meter 3"
   ]
  },
  {
   "cell_type": "code",
   "execution_count": 41,
   "metadata": {},
   "outputs": [
    {
     "name": "stdout",
     "output_type": "stream",
     "text": [
      "Mem. usage decreased from 347.26 Mb to 118.17 Mb (66.0% reduction)\n"
     ]
    }
   ],
   "source": [
    "submit_set3 = pd.read_csv('C:/data/Kaggle_ASHRAE_energy/test_set3.csv')\n",
    "submit_set3 = reduce_mem_usage(submit_set3)"
   ]
  },
  {
   "cell_type": "code",
   "execution_count": 42,
   "metadata": {},
   "outputs": [
    {
     "name": "stderr",
     "output_type": "stream",
     "text": [
      "C:\\Users\\raymond.guo\\AppData\\Local\\Continuum\\anaconda3\\lib\\site-packages\\ipykernel_launcher.py:2: SettingWithCopyWarning: \n",
      "A value is trying to be set on a copy of a slice from a DataFrame\n",
      "\n",
      "See the caveats in the documentation: http://pandas.pydata.org/pandas-docs/stable/user_guide/indexing.html#returning-a-view-versus-a-copy\n",
      "  \n"
     ]
    }
   ],
   "source": [
    "submit_set3[\"primary_use\"] = le.transform(submit_set3[\"primary_use\"])\n",
    "submit_set3.month[submit_set3.month==12] = 0\n",
    "X_sub3 = [submit_set3.building_id.values, submit_set3.primary_use.values,\n",
    "          submit_set3.month.values, submit_set3.weekday.values, submit_set3.hour.values,\n",
    "          submit_set3.drop(['site_id','building_id','timestamp','dewair','row_id'], axis=1).values]"
   ]
  },
  {
   "cell_type": "code",
   "execution_count": 43,
   "metadata": {},
   "outputs": [],
   "source": [
    "model_meter3 = tf.keras.models.load_model('model_meter3.h5')\n",
    "submit_y3 = model_meter3.predict(X_sub3)"
   ]
  },
  {
   "cell_type": "code",
   "execution_count": 44,
   "metadata": {},
   "outputs": [],
   "source": [
    "submit_y3 = pd.Series(submit_y3.reshape(-1,))\n",
    "submit_y3 = pd.concat([submit_set3.row_id,submit_y3], axis=1)\n",
    "submit_y3.columns = ['row_id','meter_reading']\n",
    "submit_y3.meter_reading = np.exp(rob_3.inverse_transform(mm_3.inverse_transform(submit_y3.meter_reading.values.reshape(-1,1))))"
   ]
  },
  {
   "cell_type": "code",
   "execution_count": 45,
   "metadata": {},
   "outputs": [
    {
     "data": {
      "text/html": [
       "<div>\n",
       "<style scoped>\n",
       "    .dataframe tbody tr th:only-of-type {\n",
       "        vertical-align: middle;\n",
       "    }\n",
       "\n",
       "    .dataframe tbody tr th {\n",
       "        vertical-align: top;\n",
       "    }\n",
       "\n",
       "    .dataframe thead th {\n",
       "        text-align: right;\n",
       "    }\n",
       "</style>\n",
       "<table border=\"1\" class=\"dataframe\">\n",
       "  <thead>\n",
       "    <tr style=\"text-align: right;\">\n",
       "      <th></th>\n",
       "      <th>row_id</th>\n",
       "      <th>meter_reading</th>\n",
       "    </tr>\n",
       "  </thead>\n",
       "  <tbody>\n",
       "    <tr>\n",
       "      <td>0</td>\n",
       "      <td>2260082</td>\n",
       "      <td>1.142647</td>\n",
       "    </tr>\n",
       "    <tr>\n",
       "      <td>1</td>\n",
       "      <td>2260145</td>\n",
       "      <td>1.149703</td>\n",
       "    </tr>\n",
       "    <tr>\n",
       "      <td>2</td>\n",
       "      <td>2260208</td>\n",
       "      <td>1.156020</td>\n",
       "    </tr>\n",
       "    <tr>\n",
       "      <td>3</td>\n",
       "      <td>2260271</td>\n",
       "      <td>1.302485</td>\n",
       "    </tr>\n",
       "    <tr>\n",
       "      <td>4</td>\n",
       "      <td>2260334</td>\n",
       "      <td>1.530024</td>\n",
       "    </tr>\n",
       "    <tr>\n",
       "      <td>...</td>\n",
       "      <td>...</td>\n",
       "      <td>...</td>\n",
       "    </tr>\n",
       "    <tr>\n",
       "      <td>2528673</td>\n",
       "      <td>41497337</td>\n",
       "      <td>4226.142090</td>\n",
       "    </tr>\n",
       "    <tr>\n",
       "      <td>2528674</td>\n",
       "      <td>41497587</td>\n",
       "      <td>4098.750977</td>\n",
       "    </tr>\n",
       "    <tr>\n",
       "      <td>2528675</td>\n",
       "      <td>41497837</td>\n",
       "      <td>4039.325439</td>\n",
       "    </tr>\n",
       "    <tr>\n",
       "      <td>2528676</td>\n",
       "      <td>41498087</td>\n",
       "      <td>3998.564453</td>\n",
       "    </tr>\n",
       "    <tr>\n",
       "      <td>2528677</td>\n",
       "      <td>41498337</td>\n",
       "      <td>3936.594971</td>\n",
       "    </tr>\n",
       "  </tbody>\n",
       "</table>\n",
       "<p>2528678 rows × 2 columns</p>\n",
       "</div>"
      ],
      "text/plain": [
       "           row_id  meter_reading\n",
       "0         2260082       1.142647\n",
       "1         2260145       1.149703\n",
       "2         2260208       1.156020\n",
       "3         2260271       1.302485\n",
       "4         2260334       1.530024\n",
       "...           ...            ...\n",
       "2528673  41497337    4226.142090\n",
       "2528674  41497587    4098.750977\n",
       "2528675  41497837    4039.325439\n",
       "2528676  41498087    3998.564453\n",
       "2528677  41498337    3936.594971\n",
       "\n",
       "[2528678 rows x 2 columns]"
      ]
     },
     "execution_count": 45,
     "metadata": {},
     "output_type": "execute_result"
    }
   ],
   "source": [
    "submit_y3"
   ]
  },
  {
   "cell_type": "code",
   "execution_count": 46,
   "metadata": {},
   "outputs": [],
   "source": [
    "submit_y3.to_csv('C:/data/Kaggle_ASHRAE_energy/submit_y3.csv', index=False)"
   ]
  },
  {
   "cell_type": "code",
   "execution_count": 47,
   "metadata": {},
   "outputs": [
    {
     "data": {
      "text/plain": [
       "93301"
      ]
     },
     "execution_count": 47,
     "metadata": {},
     "output_type": "execute_result"
    }
   ],
   "source": [
    "del submit_set3\n",
    "del model_meter3\n",
    "gc.collect()"
   ]
  },
  {
   "cell_type": "code",
   "execution_count": 48,
   "metadata": {},
   "outputs": [
    {
     "name": "stdout",
     "output_type": "stream",
     "text": [
      "Mem. usage decreased from 19.29 Mb to 14.47 Mb (25.0% reduction)\n"
     ]
    }
   ],
   "source": [
    "submit_y3 = reduce_mem_usage(submit_y3)"
   ]
  },
  {
   "cell_type": "code",
   "execution_count": 49,
   "metadata": {},
   "outputs": [],
   "source": [
    "submit_y = pd.concat([submit_y0,submit_y1,submit_y2,submit_y3], axis=0)\n",
    "submit_y = submit_y.sort_values(by='row_id')"
   ]
  },
  {
   "cell_type": "code",
   "execution_count": 50,
   "metadata": {},
   "outputs": [
    {
     "data": {
      "text/html": [
       "<div>\n",
       "<style scoped>\n",
       "    .dataframe tbody tr th:only-of-type {\n",
       "        vertical-align: middle;\n",
       "    }\n",
       "\n",
       "    .dataframe tbody tr th {\n",
       "        vertical-align: top;\n",
       "    }\n",
       "\n",
       "    .dataframe thead th {\n",
       "        text-align: right;\n",
       "    }\n",
       "</style>\n",
       "<table border=\"1\" class=\"dataframe\">\n",
       "  <thead>\n",
       "    <tr style=\"text-align: right;\">\n",
       "      <th></th>\n",
       "      <th>row_id</th>\n",
       "      <th>meter_reading</th>\n",
       "    </tr>\n",
       "  </thead>\n",
       "  <tbody>\n",
       "    <tr>\n",
       "      <td>0</td>\n",
       "      <td>0</td>\n",
       "      <td>166.186615</td>\n",
       "    </tr>\n",
       "    <tr>\n",
       "      <td>17520</td>\n",
       "      <td>1</td>\n",
       "      <td>79.490456</td>\n",
       "    </tr>\n",
       "    <tr>\n",
       "      <td>35040</td>\n",
       "      <td>2</td>\n",
       "      <td>14.887107</td>\n",
       "    </tr>\n",
       "    <tr>\n",
       "      <td>52560</td>\n",
       "      <td>3</td>\n",
       "      <td>224.578384</td>\n",
       "    </tr>\n",
       "    <tr>\n",
       "      <td>70080</td>\n",
       "      <td>4</td>\n",
       "      <td>1214.581177</td>\n",
       "    </tr>\n",
       "    <tr>\n",
       "      <td>...</td>\n",
       "      <td>...</td>\n",
       "      <td>...</td>\n",
       "    </tr>\n",
       "    <tr>\n",
       "      <td>4968166</td>\n",
       "      <td>41498566</td>\n",
       "      <td>2589.733154</td>\n",
       "    </tr>\n",
       "    <tr>\n",
       "      <td>23875470</td>\n",
       "      <td>41498567</td>\n",
       "      <td>80.250160</td>\n",
       "    </tr>\n",
       "    <tr>\n",
       "      <td>5398191</td>\n",
       "      <td>41498568</td>\n",
       "      <td>37.682434</td>\n",
       "    </tr>\n",
       "    <tr>\n",
       "      <td>5535799</td>\n",
       "      <td>41498569</td>\n",
       "      <td>436.172882</td>\n",
       "    </tr>\n",
       "    <tr>\n",
       "      <td>24649515</td>\n",
       "      <td>41498570</td>\n",
       "      <td>3.419894</td>\n",
       "    </tr>\n",
       "  </tbody>\n",
       "</table>\n",
       "<p>41498571 rows × 2 columns</p>\n",
       "</div>"
      ],
      "text/plain": [
       "            row_id  meter_reading\n",
       "0                0     166.186615\n",
       "17520            1      79.490456\n",
       "35040            2      14.887107\n",
       "52560            3     224.578384\n",
       "70080            4    1214.581177\n",
       "...            ...            ...\n",
       "4968166   41498566    2589.733154\n",
       "23875470  41498567      80.250160\n",
       "5398191   41498568      37.682434\n",
       "5535799   41498569     436.172882\n",
       "24649515  41498570       3.419894\n",
       "\n",
       "[41498571 rows x 2 columns]"
      ]
     },
     "execution_count": 50,
     "metadata": {},
     "output_type": "execute_result"
    }
   ],
   "source": [
    "submit_y"
   ]
  },
  {
   "cell_type": "code",
   "execution_count": 51,
   "metadata": {},
   "outputs": [],
   "source": [
    "submit_y.to_csv('C:/data/Kaggle_ASHRAE_energy/submit_y.csv', index=False)"
   ]
  },
  {
   "cell_type": "code",
   "execution_count": null,
   "metadata": {},
   "outputs": [],
   "source": []
  },
  {
   "cell_type": "code",
   "execution_count": null,
   "metadata": {},
   "outputs": [],
   "source": [
    "# codes to debug the network when I got all nan output . "
   ]
  },
  {
   "cell_type": "code",
   "execution_count": 27,
   "metadata": {
    "scrolled": true
   },
   "outputs": [
    {
     "data": {
      "text/plain": [
       "array([[[-0.15938824, -0.1609597 ,  0.13235152, ..., -0.10105675,\n",
       "         -0.11359914,  0.16553003]],\n",
       "\n",
       "       [[-0.74472386,  0.06896221, -0.7420141 , ..., -0.15583813,\n",
       "          0.8708445 , -0.24297723]],\n",
       "\n",
       "       [[-0.6348404 , -0.4213335 , -0.18732052, ..., -0.3587221 ,\n",
       "         -0.3043011 , -0.33298835]],\n",
       "\n",
       "       ...,\n",
       "\n",
       "       [[-0.05055657,  0.08206438,  0.09478991, ..., -0.02927877,\n",
       "          0.15266207,  0.09116147]],\n",
       "\n",
       "       [[ 0.09414857, -0.10052757, -0.04715184, ...,  0.0859695 ,\n",
       "          0.29390404,  0.00264081]],\n",
       "\n",
       "       [[ 0.06126491, -0.48060998,  0.0963463 , ..., -0.0093626 ,\n",
       "         -0.02631511, -0.1163187 ]]], dtype=float32)"
      ]
     },
     "execution_count": 27,
     "metadata": {},
     "output_type": "execute_result"
    }
   ],
   "source": [
    "# fetch the output of embedding layer, all nans\n",
    "building_id_emb1 = tf.keras.Model(inputs = model1.input,\n",
    "                                outputs = model1.get_layer('building_id_emb').output)\n",
    "building_id_output = building_id_emb1.predict(X)\n",
    "building_id_output"
   ]
  },
  {
   "cell_type": "code",
   "execution_count": 39,
   "metadata": {},
   "outputs": [
    {
     "data": {
      "text/plain": [
       "array([[[nan, nan, nan, ..., nan, nan, nan]],\n",
       "\n",
       "       [[nan, nan, nan, ..., nan, nan, nan]],\n",
       "\n",
       "       [[nan, nan, nan, ..., nan, nan, nan]],\n",
       "\n",
       "       ...,\n",
       "\n",
       "       [[nan, nan, nan, ..., nan, nan, nan]],\n",
       "\n",
       "       [[nan, nan, nan, ..., nan, nan, nan]],\n",
       "\n",
       "       [[nan, nan, nan, ..., nan, nan, nan]]], dtype=float32)"
      ]
     },
     "execution_count": 39,
     "metadata": {},
     "output_type": "execute_result"
    }
   ],
   "source": [
    "# fetch the output of embedding layer, all nans\n",
    "building_id_emb = tf.keras.Model(inputs = model1.input,\n",
    "                                outputs = model1.get_layer('building_id_emb').output)\n",
    "building_id_output = building_id_emb.predict(X)\n",
    "building_id_output"
   ]
  },
  {
   "cell_type": "code",
   "execution_count": 48,
   "metadata": {},
   "outputs": [
    {
     "data": {
      "text/plain": [
       "(9189087, 1, 20)"
      ]
     },
     "execution_count": 48,
     "metadata": {},
     "output_type": "execute_result"
    }
   ],
   "source": [
    "building_id_output.shape"
   ]
  },
  {
   "cell_type": "code",
   "execution_count": 33,
   "metadata": {},
   "outputs": [
    {
     "data": {
      "text/plain": [
       "array([[1300.],\n",
       "       [ 197.],\n",
       "       [ 138.],\n",
       "       ...,\n",
       "       [1049.],\n",
       "       [ 897.],\n",
       "       [  26.]], dtype=float32)"
      ]
     },
     "execution_count": 33,
     "metadata": {},
     "output_type": "execute_result"
    }
   ],
   "source": [
    "# fetch the output of input layer\n",
    "input_building_id = tf.keras.Model(inputs = model1.input,\n",
    "                                outputs = model1.get_layer('input_building_id').output)\n",
    "input_building_id_output = input_building_id.predict(X)\n",
    "input_building_id_output"
   ]
  },
  {
   "cell_type": "code",
   "execution_count": 47,
   "metadata": {},
   "outputs": [
    {
     "data": {
      "text/plain": [
       "(9189087, 1)"
      ]
     },
     "execution_count": 47,
     "metadata": {},
     "output_type": "execute_result"
    }
   ],
   "source": [
    "input_building_id_output.shape"
   ]
  },
  {
   "cell_type": "code",
   "execution_count": 84,
   "metadata": {},
   "outputs": [
    {
     "data": {
      "text/plain": [
       "site_id          False\n",
       "building_id      False\n",
       "0                False\n",
       "1                False\n",
       "2                False\n",
       "3                False\n",
       "4                False\n",
       "5                False\n",
       "6                False\n",
       "7                False\n",
       "8                False\n",
       "9                False\n",
       "10               False\n",
       "11               False\n",
       "12               False\n",
       "13               False\n",
       "14               False\n",
       "15               False\n",
       "timestamp        False\n",
       "airtemp          False\n",
       "sealev           False\n",
       "dewtemp          False\n",
       "windsp           False\n",
       "North            False\n",
       "West             False\n",
       "South            False\n",
       "nowind           False\n",
       "dewair            True\n",
       "meter_reading    False\n",
       "dtype: bool"
      ]
     },
     "execution_count": 84,
     "metadata": {},
     "output_type": "execute_result"
    }
   ],
   "source": [
    "strat_train_set.isnull().any()"
   ]
  },
  {
   "cell_type": "code",
   "execution_count": 85,
   "metadata": {},
   "outputs": [
    {
     "data": {
      "text/plain": [
       "4037"
      ]
     },
     "execution_count": 85,
     "metadata": {},
     "output_type": "execute_result"
    }
   ],
   "source": [
    "# there are nan in dewair, which cause all nan output from embedding layer, need to get rid of that, \n",
    "# but for now I just abandon that feature.\n",
    "np.sum(strat_train_set.dewair.isnull())"
   ]
  },
  {
   "cell_type": "code",
   "execution_count": null,
   "metadata": {},
   "outputs": [],
   "source": []
  }
 ],
 "metadata": {
  "kernelspec": {
   "display_name": "Python 3",
   "language": "python",
   "name": "python3"
  },
  "language_info": {
   "codemirror_mode": {
    "name": "ipython",
    "version": 3
   },
   "file_extension": ".py",
   "mimetype": "text/x-python",
   "name": "python",
   "nbconvert_exporter": "python",
   "pygments_lexer": "ipython3",
   "version": "3.7.3"
  }
 },
 "nbformat": 4,
 "nbformat_minor": 2
}
